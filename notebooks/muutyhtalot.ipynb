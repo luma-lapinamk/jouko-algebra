{
 "cells": [
  {
   "cell_type": "markdown",
   "id": "14e90b83",
   "metadata": {},
   "source": [
    "# Muita yhtälötyyppejä"
   ]
  },
  {
   "cell_type": "markdown",
   "id": "1d0e5aef",
   "metadata": {},
   "source": [
    "## Murtoyhtälöt ja epäyhtälöt"
   ]
  },
  {
   "cell_type": "markdown",
   "id": "5565cf64",
   "metadata": {},
   "source": [
    "```{admonition} **Murtoyhtälön perusmuoto**\n",
    ":class: tip\n",
    "$\\frac{p(x)}{q(x)}=0$ , missä p(x) ja q(x) ovat x:n polynomeja    \n",
    "\n",
    "Murtoyhtälön ratkaisumenetelmä:\n",
    "\n",
    "1. Todetaan yhtälön määritysjoukko, joka on kaikki reaaliluvut lukuunottamatta nimittäjän q(x) nollakohtia.     \n",
    "2. Murtoyhtälön ratkaisujoukkona ovat ne yhtälön p(x) = 0 nollakohdat, jotka kuuluvat määritysjoukkoon  \n",
    "\n",
    "Käytännössä murtoyhtälöä ei tarvitse viedä perusmuotoon, vaan se voidaan ratkaista toteamalla yhtälön määritysjoukko, jonka jälkeen yhtälö voidaan kertoa siinä esiintyvien nimittäjien pienimmällä yhteisellä jaettavalla siten, että nimittäjät poistuvat. Ratkaistaan tuloksena saatu polynomiyhtälö.  Murtoyhtälön ratkaisut ovat ne polynomiyhtälön ratkaisut, jotka ovat määritysjoukossa. \n",
    "```"
   ]
  },
  {
   "cell_type": "markdown",
   "id": "6c609658",
   "metadata": {},
   "source": [
    "````{admonition} Esim1. Ratkaise yhtälö $\\frac{x^2-x}{x+1}=0$\n",
    ":class: dropdown\n",
    "Vastaus; x = 0  tai  x = 1\n",
    "```{admonition} Yhtälön ratkaisu: \n",
    ":class: dropdown  \n",
    "Määritysjoukkona on kaikki reaaliluvut poislukien nimittäjän nollakohta.  Mj: $x\\neq -1$    \n",
    "Kerrotaan yhtälö (x+1):llä, jolloin saadaan yhtälö $x^2 - x$ = 0.  Tämä ratkaistaan seuraavasti:      \n",
    "\n",
    "$ x (x-1) = 0$       \n",
    "$ x = 0$ tai $x = 1$   \n",
    "Kumpikin osoittajan juurista kuuluu määritysjoukkoon, joten ne muodostavat yhtälön ratkaisut.\n",
    "```\n",
    "````"
   ]
  },
  {
   "cell_type": "markdown",
   "id": "071a78a0",
   "metadata": {},
   "source": [
    "````{admonition} Esim2. Ratkaise yhtälö $\\frac{2}{x}+1=\\frac{6}{x+1}$\n",
    ":class: dropdown\n",
    "Vastaus; x = 1 tai x = 2\n",
    "```{admonition} Yhtälön ratkaisu: \n",
    ":class: dropdown  \n",
    "Määritysjoukkona on kaikki reaaliluvut poislukien nimittäjien nollakohdat.  Mj: $x\\neq 0, -1$     \n",
    "Kerrotaan yhtälö yhtälön nimittäjien pyj:llä eli x(x+1):llä, jolloin saadaan     \n",
    "$\\frac{2x(x+1)}{x}+x(x+1)=\\frac{6x(x+1)}{x+1}$, josta supistamalla saadaan    \n",
    "\n",
    "$ 2(x+1)+x(x+1)=6x$     \n",
    "$ 2x+2+x^2+x=6x$     \n",
    "$ x^2-3x+2=0$    \n",
    "$ x=1$ tai $x = 2$    \n",
    "Kumpikin juurista kuuluu määritysjoukkoon, joten ne muodostavat yhtälön ratkaisut.\n",
    "```\n",
    "````"
   ]
  },
  {
   "cell_type": "markdown",
   "id": "c682dabd",
   "metadata": {},
   "source": [
    "## Potenssiyhtälöt"
   ]
  },
  {
   "cell_type": "markdown",
   "id": "13be4480",
   "metadata": {},
   "source": [
    "```{admonition} **Potenssiyhtälön perusmuoto**\n",
    ":class: tip\n",
    "$x^n = a$ , missä n on positiivinen kokonaisluku ja a on vakio    \n",
    "\n",
    "Potenssiyhtälön ratkaisu:\n",
    "\n",
    "Jos n on parillinen ja a > 0, ratkaisuja on kaksi:  $x=\\pm \\sqrt[n]{a}$    \n",
    "Jos n on parillinen ja a < 0, yhtälöllä ei ole ratkaisuja       \n",
    "Jos n on pariton, ratkaisuja on yksi: $x=\\sqrt[n]{a}$ riippumatta a:n etumerkistä\n",
    "\n",
    "```"
   ]
  },
  {
   "cell_type": "markdown",
   "id": "95c9c6fb",
   "metadata": {},
   "source": [
    "````{admonition} Esim1. Ratkaise yhtälö $2x^4=7$\n",
    ":class: dropdown\n",
    "Vastaus; $x=\\pm \\sqrt[4]{\\frac{7}{2}}$\n",
    "```{admonition} Yhtälön ratkaisu: \n",
    ":class: dropdown  \n",
    "Jaetaan yhtälö 2:lla, jolloin saadaan perusmuotoinen potenssiyhtälö     \n",
    "$x^4=\\frac {7}{2}$          Ratkaisuja on kaksi:      \n",
    "$x=\\pm \\sqrt[4]{\\frac{7}{2}}$\n",
    "```\n",
    "````"
   ]
  },
  {
   "cell_type": "markdown",
   "id": "ef7b4654",
   "metadata": {},
   "source": [
    "````{admonition} Esim1. Ratkaise yhtälö $ 4x^6+1 = 0$\n",
    ":class: dropdown\n",
    "Vastaus; ei reaalisia ratkaisuja\n",
    "```{admonition} Yhtälön ratkaisu: \n",
    ":class: dropdown  \n",
    "Viedään yhtälö perusmuotoon    \n",
    "\n",
    "$x^4=-\\frac {1}{4}$          \n",
    "Parillinen potenssi ei voi olla negatiivinen, joten yhtälöllä ei ole ratkaisuja. \n",
    "```\n",
    "````"
   ]
  },
  {
   "cell_type": "markdown",
   "id": "b7349962",
   "metadata": {},
   "source": [
    "````{admonition} Esim1. Ratkaise yhtälö $ x^3+5 = 0$\n",
    ":class: dropdown\n",
    "Vastaus; $x=-\\sqrt[3]{5}$\n",
    "```{admonition} Yhtälön ratkaisu: \n",
    ":class: dropdown  \n",
    "Viedään yhtälö perusmuotoon       \n",
    "$ x^3 = -5$                 \n",
    "Otetaan kuutiojuuri molemmista puolista    \n",
    "\n",
    "$x=\\sqrt[3]{-5} = -\\sqrt[3]{5}$     \n",
    "(huom! miinusmerkin voi siirtää juuren alta etumerkiksi:  $\\sqrt[3]{-a} = -\\sqrt[3]{a}$ )        \n",
    " \n",
    "```\n",
    "````"
   ]
  },
  {
   "cell_type": "markdown",
   "id": "f0659eb6",
   "metadata": {},
   "source": [
    "## Korkeamman asteen polynomiyhtälöt"
   ]
  },
  {
   "cell_type": "markdown",
   "id": "46cb1822",
   "metadata": {},
   "source": [
    "```{admonition} Korkeamman asteen polynomiyhtälöt\n",
    ":class: tip\n",
    "$ a_{n}x^{n}+a_{n-1}x^{n-1}+\\cdots +a_{1}x+a_{0} = 0$, missä polynomin asteluku n > 2\n",
    "```"
   ]
  },
  {
   "cell_type": "markdown",
   "id": "33196186",
   "metadata": {},
   "source": [
    "Tarkastellaan erikoistapausta, jota sanotaan **bikvadraattiseksi yhtälöksi**."
   ]
  },
  {
   "cell_type": "markdown",
   "id": "bc20c409",
   "metadata": {},
   "source": [
    "```{admonition} **Bikvadraattinen yhtälö**\n",
    ":class: tip\n",
    "Korkeamman asteen polynomiyhtälöiden eräs erikoistapaus on bikvadraattinen yhtälö, jonka vasen puoli on neljännen asteen polynomi, jossa esiintyy vain x:n parillisia potensseja    \n",
    "\n",
    "$ a_{4}x^{4}+a_{2}x^{2}+a_{0} = 0$   \n",
    "\n",
    "Ratkaisu:  Tehdään sijoitus $t = x^2$, ja ratkaistaan t toisen asteen yhtälöstä $ a_{4}t^{2}+a_{2} t+a_{0} = 0$.    \n",
    "Ratkaistaan x:n mahdolliset arvot yhtälöistä $x^2 = t_1$  ja  $x^2 = t_2$ , missä $t_1$ ja $t_2$ ovat em. toisen asteen yhtälön juuret.   \n",
    "\n",
    "```"
   ]
  },
  {
   "cell_type": "markdown",
   "id": "c9e922de",
   "metadata": {},
   "source": [
    "````{admonition} Esim1. Ratkaise yhtälö $ x^4 - 3x^2 + 2 = 0$\n",
    ":class: dropdown\n",
    "Ratkaisujoukko: {$-1,1,-\\sqrt{2},\\sqrt{2}$}\n",
    "```{admonition} Yhtälön ratkaisu: \n",
    ":class: dropdown  \n",
    "Tehdään sijoitus t = $x^2$, ja ratkaistaan t toisen asteen yhtälöstä :   \n",
    "$ t^2 - 3 t + 2 = 0$    \n",
    "$ t=1$ tai $t = 2$     \n",
    "Sijoittamalla t:n tilalle $x^2$ saadaan kaksi yhtälöä:     \n",
    "\n",
    "$x^2 = 1$ , jonka ratkaisut ovat x=-1 tai x=1      \n",
    "$x^2 = 2$ , jonka ratkaisut ovat x=-$\\sqrt{2}$ tai x=$\\sqrt{2}$     \n",
    "\n",
    "Yhdistämällä molemmat ratkaisut saadaan ratkaisujoukoksi ${-1,1,-\\sqrt{2},\\sqrt{2}}$\n",
    " \n",
    "```\n",
    "````"
   ]
  }
 ],
 "metadata": {
  "jupytext": {
   "cell_metadata_filter": "-all",
   "notebook_metadata_filter": "-all",
   "text_representation": {
    "extension": ".md",
    "format_name": "markdown"
   }
  },
  "kernelspec": {
   "display_name": "Python 3 (ipykernel)",
   "language": "python",
   "name": "python3"
  },
  "language_info": {
   "codemirror_mode": {
    "name": "ipython",
    "version": 3
   },
   "file_extension": ".py",
   "mimetype": "text/x-python",
   "name": "python",
   "nbconvert_exporter": "python",
   "pygments_lexer": "ipython3",
   "version": "3.9.7"
  }
 },
 "nbformat": 4,
 "nbformat_minor": 5
}
