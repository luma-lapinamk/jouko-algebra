{
 "cells": [
  {
   "cell_type": "markdown",
   "id": "64e7986e",
   "metadata": {},
   "source": [
    "# Eksponenttimalli ja logaritmi"
   ]
  },
  {
   "cell_type": "markdown",
   "id": "81c24561",
   "metadata": {},
   "source": [
    "*Eksponenttimallia* käytetään mm. koronkorkolaskuissa. Muita sovellusalueita ovat esim. väestönkasvu, metsätaloudessa puun kasvu ja fysiikassa radioaktiivinen hajoaminen. "
   ]
  },
  {
   "cell_type": "markdown",
   "id": "526329ba",
   "metadata": {},
   "source": [
    "## Eksponenttifunktio ja logaritmifunktio"
   ]
  },
  {
   "cell_type": "markdown",
   "id": "987dc58e",
   "metadata": {},
   "source": [
    "```{admonition} Eksponenttifunktio $y = a^x$ \n",
    ":class: tip  \n",
    "Kantaluku a on positiivinen reaaliluku.     \n",
    "\n",
    "Ominaisuuksia:     \n",
    "1. Kuvaaja kulkee aina pisteen (0,1) kautta, sillä $a^0 = 1$  riippumatta a:n arvosta     \n",
    "2. Funktio saa vain positiivisia arvoja    \n",
    "3. Jos a > 1, eksponenttifunktio on kasvava   \n",
    "4. Jos a < 1, eksponenttifunktio on vähenevä\n",
    "![eksp](../images/exp.PNG)\n",
    "```"
   ]
  },
  {
   "cell_type": "markdown",
   "id": "8051e5b8",
   "metadata": {},
   "source": [
    "```{admonition} Logaritmifunktio y = $log_{a}(x)$\n",
    ":class: tip  \n",
    "Logaritmifunktio on eksponenttifunktion käänteisfunktio:    \n",
    "ts. jos y = $a^x$ , niin eksponentti x = $log_{a}(y)$  (luetaan \"a - kantainen logaritmi y:stä\")\n",
    "\n",
    "Harvoissa laskimissa on logaritmifunktio kaikille mahdollisille kantaluvuille a.    \n",
    "Esim. funktiolaskimissa on vain 10-kantainen logaritmi log(x) ja e-kantainen logaritmi ln(x), jossa kantalukuna on ns. Neperin luku e = 2.71828....  \n",
    "Minkä tahansa logaritmin $log_{a}(x)$ voi laskea laskimen log - funktiota käyttän muunnoskaavalla\n",
    "\n",
    "$log_{a}(x)=\\frac{log(x)}{log(a)}$\n",
    "\n",
    "```"
   ]
  },
  {
   "cell_type": "markdown",
   "id": "b3e4bbcf",
   "metadata": {},
   "source": [
    "## Eksponenttiyhtälö"
   ]
  },
  {
   "cell_type": "markdown",
   "id": "14210e80",
   "metadata": {},
   "source": [
    "```{admonition} Eksponenttiyhtälön perusmuoto $a^x = b$ \n",
    ":class: tip  \n",
    "Yhtälössä sekä kantaluvun a, että vakion b on oltava positiivisia reaalilukuja.     \n",
    "\n",
    "Yhtälön ratkaisu on  \n",
    "x = $log_{a}(b) = \\frac{log(b)}{log(a)}$   \n",
    "```"
   ]
  },
  {
   "cell_type": "markdown",
   "id": "1e1c9a40",
   "metadata": {},
   "source": [
    "## Talousmatematiikan esimerkkejä  "
   ]
  },
  {
   "cell_type": "markdown",
   "id": "07f0b575",
   "metadata": {},
   "source": [
    "````{admonition} Esim1. Kiinteistön arvo oli v.2010 alussa 125000 euroa. Oletetaan, että kiinteistön arvo nousee tasaisesti 2.5% vuodessa. Laske a) ko. kiinteistön arvo v.2016 alussa b) kiinteistön arvo v.1990  c) milloin kiinteistön arvo ylittää 160000 euron rajan\n",
    ":class: dropdown\n",
    "Vastauksia:  a) 144962 euroa b) 76284 euroa  c) v.2020 alussa\n",
    "```{admonition} Ratkaisu: \n",
    ":class: dropdown  \n",
    "Seuraavan vuoden arvo saadaan edellisestä kertomalla tämä ns. *lisäyskertoimella* 1 + p/100      \n",
    "2.5% vuosikasvua vastaava lisäyskerroin on 1.025    \n",
    "\n",
    "a) v.2016 kiinteistön arvo on $125000*1.025^6 = 144962$       \n",
    "\n",
    "b) v.1990 arvo saadaan jakamalla lisäyskertoimen potenssilla 20 $125000/1.025^20 = 76284$ tai ekvivalentilla tavalla käyttämällä negatiivista eksponenttia $125000*1.025^{-20} = 76284$   \n",
    "\n",
    "c) Aika t, jonka kuluttua arvo ylittää 160000, saadaan ratkaisemalla eksponenttiyhtälö \n",
    "$125000*1.025^t = 160000$    \n",
    "\n",
    "Yhtälö viedään ensin perusmuotoon jakamalla puolittain 125000 :lla\n",
    "$1.025^t = 160000/125000 = 1.28$    , jonka ratkaisu on     \n",
    "$t = log(1.28)/log(1.025) = 10.0$  \n",
    "\n",
    "Kysytty vuosiluku on siten 2010 + 10 = 2020.\n",
    "```\n",
    "````"
   ]
  },
  {
   "cell_type": "markdown",
   "id": "c185b8d1",
   "metadata": {},
   "source": [
    "````{admonition} Esim2. Vuosimallin 2007 Fiat Punto maksoi v.2011 alussa 4900 euroa. Oletetaan että sen arvo putoaa 15% vuodessa. a) Kuinka paljon Punto maksoi uutena v.2007?   b) Milloin arvo alittaa 1000 euron rajan?\n",
    ":class: dropdown\n",
    "Vastauksia:  a) 9387 euroa b) v.2020 loppupuolella\n",
    "```{admonition} Ratkaisu: \n",
    ":class: dropdown  \n",
    "Lisäyskerroin on 1 - 15/100 = 0.85   \n",
    "\n",
    "a) v.2007 arvo on $4900*0.85^-4 = 9387$     \n",
    "b) Aika t, jonka kuluttua arvo on 1000 euroa, saadaan ratkaisemalla eksponenttiyhtälö \n",
    "$4900*0.85^t = 1000$    \n",
    "Yhtälö viedään ensin perusmuotoon jakamalla puolittain 4900 :lla      \n",
    "$0.85^t = 1000/4900 = 0.204$    , jonka ratkaisu on\n",
    "$t = log(0.204)/log(0.85) = 9.8$    \n",
    "Kysytty vuosiluku on siten 2011 + 9.8 vuotta = 2020 loppupuoli.\n",
    "```\n",
    "````"
   ]
  },
  {
   "cell_type": "markdown",
   "id": "01f76da9",
   "metadata": {},
   "source": [
    "## Radioaktiivisen hajoamisen laki  \n"
   ]
  },
  {
   "cell_type": "markdown",
   "id": "a3a94a53",
   "metadata": {},
   "source": [
    "```{admonition} Radioaktiivinen hajoaminen\n",
    ":class: tip\n",
    "Näytteen radioaktiivisuutta kuvaavan suureen symboli on A    \n",
    "Sen yksikkö 1 Bq (Bequerel), joka on sama kuin 1 hajoaminen sekunnissa.   \n",
    "Näytteen radioaktiivisuus noudattaa eksponentimallin mukaista lakia:\n",
    "\n",
    "$A = A_0 (\\frac{1}{2})^\\frac{t}{T}$   ,   missä\n",
    "$A_0$ on näytteen radioaktiivisuus alussa (ajanhetkellä t = 0)      \n",
    "T = ns. **puoliintumisaika** (= aika, jossa aktiivisuus puoliintuu)     \n",
    "t = aika\n",
    "```"
   ]
  },
  {
   "cell_type": "markdown",
   "id": "6d7802d0",
   "metadata": {},
   "source": [
    "````{admonition} Esim3. 1 kg maanäytteen radioaktiivisuus ydinonnettomuuden jälkeen on 35000 Bq. Aktiivisuus johtuu jodin isotoopista, jonka puoliintumisaika T = 8 vrk. a) Mikä on saman näytteen radioaktiivisuus 30 vrk kuluttua?  b) Monenko vuorokauden kuluttua aktiivisuus on enää 10 Bq?\n",
    ":class: dropdown\n",
    "Vastauksia:  a) n. 2600 Bq b) 95 vrk kuluttua\n",
    "```{admonition} Ratkaisu: \n",
    ":class: dropdown  \n",
    "a) A(30 vrk) = $35000*0.5^{30/8} = 2601$    \n",
    "b) Ratkaistaan t eksponenttiyhtälöstä     \n",
    "$35000*0.5^{(t/8)} = 10$   \n",
    "\n",
    "Yhtälö viedään ensin perusmuotoon jakamalla puolittain 35000 :lla   \n",
    "\n",
    "$0.5^{(t/8)} = 10/35000 = 0.000286$                 \n",
    "Tästä ratkaistaan ensin eksponentti t/8\n",
    "$t/8 = log(0.000286)/log(0.5) = 11.77$                \n",
    "Tämän jälkeen molemmat puolet kerrotaan luvulla 8       \n",
    "\n",
    "$t = 11.77\\cdot 8$ vrk = 95 vrk\n",
    "```\n",
    "````"
   ]
  },
  {
   "cell_type": "markdown",
   "id": "575fce58",
   "metadata": {},
   "source": [
    "## Keskikoron laskeminen"
   ]
  },
  {
   "cell_type": "markdown",
   "id": "2912d1ac",
   "metadata": {},
   "source": [
    "> Joskus yhtälöstä $a^x = y$ kysytään kantaluvun a arvoa, kun y ja x tunnetaan. Tästä esimerkkinä on keskikoron \n",
    "> laskeminen koronkorkolaskuissa"
   ]
  },
  {
   "cell_type": "markdown",
   "id": "71d94838",
   "metadata": {},
   "source": [
    "````{admonition} Esim4. Anne sijoitti v.2012 osakkeisiin 8000 euroa ja myi osakkeet 7 vuotta myöhemmin 11500 eurolla. Mikä oli Annen saama keskimääräinen vuosikorko?\n",
    ":class: dropdown\n",
    "Vastaus:  5.3%\n",
    "```{admonition} Ratkaisu: \n",
    ":class: dropdown  \n",
    "Korkoprosentti p saadaan esiin laskemalla ensin lisäyskerroin a yhtälöstä     \n",
    "$11500 = 8000\\cdot a^7$    \n",
    "Yhtälö on potenssiyhtälö, joka viedään ensin perusmuotoon  \n",
    "$a^7 = 11500/8000 = 1.4375$   , josta     \n",
    "$a = \\sqrt[7]{1.4375}=1.053$     \n",
    "Lisäyskerrointa vastaava prosenttiluku p ratkaistaan yhtälöstä a = 1 + p/100 , josta\n",
    "$ p = (a-1)*100 \\% = 5.3\\% $\n",
    "\n",
    "```\n",
    "````"
   ]
  }
 ],
 "metadata": {
  "jupytext": {
   "cell_metadata_filter": "-all",
   "notebook_metadata_filter": "-all",
   "text_representation": {
    "extension": ".md",
    "format_name": "markdown"
   }
  },
  "kernelspec": {
   "display_name": "Python 3 (ipykernel)",
   "language": "python",
   "name": "python3"
  },
  "language_info": {
   "codemirror_mode": {
    "name": "ipython",
    "version": 3
   },
   "file_extension": ".py",
   "mimetype": "text/x-python",
   "name": "python",
   "nbconvert_exporter": "python",
   "pygments_lexer": "ipython3",
   "version": "3.9.7"
  }
 },
 "nbformat": 4,
 "nbformat_minor": 5
}
