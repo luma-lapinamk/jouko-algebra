{
 "cells": [
  {
   "cell_type": "markdown",
   "id": "c76f1a1a",
   "metadata": {},
   "source": [
    "# Itseisarvo- ja juuriyhtälöt"
   ]
  },
  {
   "cell_type": "markdown",
   "id": "14e90b83",
   "metadata": {},
   "source": [
    "## Luvun itseisarvo"
   ]
  },
  {
   "cell_type": "markdown",
   "id": "46cb1822",
   "metadata": {},
   "source": [
    "```{admonition} Luvun itseisarvo\n",
    ":class: tip\n",
    "Reaaliluvun **itseisarvo** (engl. absolute value) on luvun etäisyys origosta lukusuoralla.   \n",
    "Se on luvun etumerkitön arvo.   Luvun a itseisarvoa merkitään **|a|**. Itseisarvon muodollinen määritelmä on   \n",
    "$\n",
    "\\left| a \\right|= \n",
    "\\begin{cases}\n",
    "\\hspace{3mm}a, kun\\hspace{2mm} a\\ge 0\\\\\n",
    "-a,kun\\hspace{2mm} a\\lt 0\n",
    "\\end{cases}\n",
    "$\n",
    "\n",
    "```"
   ]
  },
  {
   "cell_type": "markdown",
   "id": "2a6632e1",
   "metadata": {},
   "source": [
    "Positiivisen luvun ja nollan itseisarvo on luku itse,  esim. |3| = 3.   \n",
    "Negatiivisen luvun itseisarvo on luvun vastaluku, esim. |-5| = 5"
   ]
  },
  {
   "cell_type": "markdown",
   "id": "2415dc25",
   "metadata": {},
   "source": [
    "```{admonition} Lukujen a ja b etäisyys lukusuoralla\n",
    ":class: tip\n",
    "Lukujen a ja b etäisyys lukusuoralla voidaan esittää muodossa |a - b|   \n",
    "   \n",
    "$\\text{ a }\\overset{|a-b|}{\\overbrace{\\text{______} }}\\text{ b}$   \n",
    "```"
   ]
  },
  {
   "cell_type": "markdown",
   "id": "01f76da9",
   "metadata": {},
   "source": [
    "## Itseisarvofunktio "
   ]
  },
  {
   "cell_type": "markdown",
   "id": "a3a94a53",
   "metadata": {},
   "source": [
    "```{admonition} Itseisarvofunktio y = |x|\n",
    ":class: tip\n",
    "Itseisarvofunktion määritelmä on\n",
    "$\n",
    "\\left| x \\right|= \n",
    "\\begin{cases}\n",
    "\\hspace{3mm}x, kun\\hspace{2mm} x\\ge 0\\\\\n",
    "-x,kun\\hspace{2mm} x\\lt 0\n",
    "\\end{cases}\n",
    "$\n",
    "\n",
    "Sen kuvaaja koostuu kahdesta puolisuorasta ao. kuvan mukaisesti.   \n",
    "\n",
    "![itsarvo](../images/abs1.PNG)\n",
    "```"
   ]
  },
  {
   "cell_type": "markdown",
   "id": "22ddbbf3",
   "metadata": {},
   "source": [
    "## Itseisarvoyhtälön ratkaisutapoja"
   ]
  },
  {
   "cell_type": "markdown",
   "id": "db893ade",
   "metadata": {},
   "source": [
    "Itseisarvoyhtälöitä ratkaistaan jakamalla ne useammaksi yhtälöksi, jotka ovat voimassa eri osaväleillä.  \n",
    "\n",
    "\n",
    "Eräissä tapauksissa niitä voi ratkaista myös korottamalla yhtälön puolet toiseen potenssiin tai käyttämällä erotuksen itseisarvon tulkintaa lukujen välimatkana lukusuoralla.   \n",
    "Graafinenkin ratkaisu on mahdollinen."
   ]
  },
  {
   "cell_type": "markdown",
   "id": "6d7802d0",
   "metadata": {},
   "source": [
    "````{admonition} Esim. Ratkaise $|x + 3| = 2$ ym. ratkaisutapoja käyttäen. \n",
    ":class: tip\n",
    "Vastaus x = -5 tai x = -1 \n",
    "```{admonition} Tapa1. Yhtälön jakaminen useaksi yhtälöksi \n",
    ":class: dropdown\n",
    "Korvataan |x + 3| eri lausekkeilla eri osissa lukusuoraa\n",
    "$\n",
    "\\left| x + 3 \\right|= \n",
    "\\begin{cases}\n",
    "\\hspace{3mm}x +3, kun\\hspace{2mm} x\\ge -3\\\\\n",
    "-x-3,kun\\hspace{2mm} x\\lt -3\n",
    "\\end{cases}\n",
    "$\n",
    "\n",
    "Saadaan kaksi yhtälöä:    \n",
    "\n",
    "$ \n",
    "\\begin{cases}\n",
    "\\hspace{3mm}x + 3 =2, kun\\hspace{2mm} x\\ge -3\\\\\n",
    "-x-3 = 2,kun\\hspace{2mm} x\\lt -3\n",
    "\\end{cases}\n",
    "$     \n",
    "\n",
    "Ylemmästä yhtälöstä saadaan juuri x = 2-3 = -1, alemmasta -x = 2+3 , josta saadaan toiseksi juureksi x = -5\n",
    "```\n",
    "```{admonition} Tapa2. Yhtälön neliöinti\n",
    ":class: dropdown\n",
    "Yhtälössä |x+3|=2 molemmat puolet > 0, joten neliöimällä saadaan yhtäpitävä yhtälö\n",
    "$(x+3)^2 = 4$     \n",
    "Sulut poistamalla saadaan 2. asteen yhtälö   \n",
    "$x^2 + 6x + 5 = 0$    \n",
    "Yhtälön juuret ovat -5 ja -1  \n",
    "```\n",
    "```{admonition} Tapa3. Etäisyystulkinnan käyttö\n",
    ":class: dropdown\n",
    "Yhtälö voidaan kirjoittaa |x- (-3)| = 2,  jonka geometrinen tulkinta on   \n",
    "\"x:n etäisyys -3:sta on 2\". Ehdon toteuttavat lukusuoran luvut -5 ja -1.\n",
    "```\n",
    "```{admonition} Tapa4. Graafinen ratkaisu\n",
    ":class: dropdown\n",
    "Piirretään samaan kuvaan yhtälön molemmat puolet |x+3| ja 2. Yhtälön ratkaisu löytyy leikkauspisteiden x-koordinaateista, jotka ovat -5 ja -1    \n",
    "![kuva5](../images/abs2.PNG)\n",
    "```\n",
    "````"
   ]
  },
  {
   "cell_type": "markdown",
   "id": "e38c3324",
   "metadata": {},
   "source": [
    "## Juuriyhtälöt"
   ]
  },
  {
   "cell_type": "markdown",
   "id": "b9ffa540",
   "metadata": {},
   "source": [
    "Tarkastellaan tyyppiä $\\sqrt{P(x)}=Q(x)$ olevia juuriyhtälöitä. Niiden ratkaisemisessa voidaan käyttää sääntöä $a = b => a^2 = b^2$    \n",
    "\n",
    "Käytännössä tämä tarkoittaa, että jos $x_0$ on yhtälön $\\sqrt{P(x)}=Q(x)$ juuri, niin $x_0$ on myös yhtälön $P(x)={Q(x)}^2$ juuri.  \n",
    "\n",
    "Neliöidyllä yhtälöllä voi olla myös juuria, jotka eivät ole alkuperäisen yhtälön juuria. Tämä johtaa seuraavaan algoritmiin juuriyhtälön ratkaisemiseksi."
   ]
  },
  {
   "cell_type": "markdown",
   "id": "eae5df7e",
   "metadata": {},
   "source": [
    "```{admonition} Tyyppiä $\\sqrt{P(x)}=Q(x)$ olevan juuriyhtälön ratkaiseminen\n",
    ":class: tip\n",
    "1. Korota yhtälön molemmat puolet toiseen.\n",
    "2. Ratkaise yhtälön $P(x)={Q(x)}^2$ juuret\n",
    "3. Sijoita kohdassa 2 saadut juuret alkuperäiseen yhtälöön selvittääksesi mitkä juurista    \n",
    "   ovat alkuperäisen yhtälön ratkaisuja.\n",
    "```"
   ]
  },
  {
   "cell_type": "markdown",
   "id": "4171c7d5",
   "metadata": {},
   "source": [
    "````{admonition} Ratkaise yhtälö $\\sqrt{x+1}= x - 5$ \n",
    ":class: dropdown\n",
    "Vastaus: x = 8\n",
    "```{admonition} Ratkaisu \n",
    ":class: dropdown\n",
    "Korotetaan molemmat puolet toiseen ja sievennetään yhtälöä    \n",
    "$(x+1) = (x-5)^2$    \n",
    "$x+1 = x^2 - 10x + 25$     \n",
    "$0 = x^2 - 11x + 24$   \n",
    "x=3 tai x=8    \n",
    "Tarkistetaan, mitkä neliöidyn yhtälön ratkaisuista ovat alkuperäisen yhtälön ratkaisuja.    \n",
    "$\\sqrt{3+1}= 3 - 5 \\hspace{4mm} => 2 = -2$  EPÄTOSI    \n",
    "$\\sqrt{8+1}= 8 - 5 \\hspace{4mm} => 3 = 3$   TOSI    \n",
    "Tehtävän ratkaisu on siten x = 8.\n",
    "```\n",
    "````"
   ]
  },
  {
   "cell_type": "markdown",
   "id": "1f252f4b",
   "metadata": {},
   "source": [
    "Usein juuriyhtälöt tulevat vastaan suureyhtälöiden ratkaisun yhteydessä. Tällöin useimmiten tarkistusta ei tarvita."
   ]
  },
  {
   "cell_type": "markdown",
   "id": "6743850c",
   "metadata": {},
   "source": [
    "````{admonition} Ratkaise g yhtälöstä $T = 2\\pi \\sqrt{\\frac{r}{g}}$\n",
    ":class: dropdown\n",
    "Vastaus: $g = \\frac{4{\\pi}^2r}{T^2}$\n",
    "```{admonition} Ratkaisu \n",
    ":class: dropdown\n",
    "Korotetaan molemmat puolet toiseen ja ratkaistaan g     \n",
    "$T = 2\\pi \\sqrt{\\frac{r}{g}}$   \n",
    "$T^2 = \\frac{4{\\pi}^2r}{g}$    \n",
    "$g T^2 = 4{\\pi}^2 r$    \n",
    "$g = \\frac{4{\\pi}^2r}{T^2}$  \n",
    "\n",
    "```\n",
    "````"
   ]
  }
 ],
 "metadata": {
  "jupytext": {
   "cell_metadata_filter": "-all",
   "notebook_metadata_filter": "-all",
   "text_representation": {
    "extension": ".md",
    "format_name": "markdown"
   }
  },
  "kernelspec": {
   "display_name": "Python 3 (ipykernel)",
   "language": "python",
   "name": "python3"
  },
  "language_info": {
   "codemirror_mode": {
    "name": "ipython",
    "version": 3
   },
   "file_extension": ".py",
   "mimetype": "text/x-python",
   "name": "python",
   "nbconvert_exporter": "python",
   "pygments_lexer": "ipython3",
   "version": "3.9.7"
  }
 },
 "nbformat": 4,
 "nbformat_minor": 5
}
