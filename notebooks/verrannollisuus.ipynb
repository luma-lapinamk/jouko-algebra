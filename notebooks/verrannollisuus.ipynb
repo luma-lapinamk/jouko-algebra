{
 "cells": [
  {
   "cell_type": "markdown",
   "id": "64e7986e",
   "metadata": {},
   "source": [
    "# Verrannollisuus"
   ]
  },
  {
   "cell_type": "markdown",
   "id": "01f76da9",
   "metadata": {},
   "source": [
    "## Verranto"
   ]
  },
  {
   "cell_type": "markdown",
   "id": "a3a94a53",
   "metadata": {},
   "source": [
    "```{admonition} Määritelmä    \n",
    ":class: tip\n",
    "Verranto on yhtälö, jossa kaksi suureen suhdetta on merkitty yhtäsuuriksi.   \n",
    "\n",
    "$\\frac{A}{B}=\\frac{C}{D}$   \n",
    "\n",
    "Lukuja A ja D sanotaan verrannon **äärimmäisiksi jäseniksi** ja   \n",
    "lukua B ja C verrannon **keskimmäisiksi jäseniksi**\n",
    "```"
   ]
  },
  {
   "cell_type": "markdown",
   "id": "4f0d2fcd",
   "metadata": {},
   "source": [
    "Mikä tahansa suureista A,B,C tai D voidaan ratkaista verrannosta, kun kolme muuta jäsentä tunnetaan.    \n",
    "Yleisesti käytetty menettely on ns **\"ristiin kertominen\"**"
   ]
  },
  {
   "cell_type": "markdown",
   "id": "6d7802d0",
   "metadata": {},
   "source": [
    "```{admonition} Ristiin kertominen\n",
    ":class: tip\n",
    "Verrannon $\\frac{A}{B}=\\frac{C}{D}$ äärimmäisten jäsenten tulo = keskimmäisten jäsenten tulo. Ts.     \n",
    "\n",
    "$A\\cdot D =B\\cdot C$\n",
    "```"
   ]
  },
  {
   "cell_type": "markdown",
   "id": "c73dc2e5",
   "metadata": {},
   "source": [
    "````{admonition} Esimerkki\n",
    ":class: note \n",
    "Ratkaise x verrannosta $\\frac{24}{40}=\\frac{x}{60}$\n",
    "\n",
    "```{admonition} Ratkaisu\n",
    ":class: dropdown\n",
    "Ristiin kertomalla saadaan $24\\cdot 60 =40\\cdot x$  , josta ratkaistuna   \n",
    "$x =\\frac{24\\cdot60}{40} = 36 $\n",
    "```\n",
    "````"
   ]
  },
  {
   "cell_type": "markdown",
   "id": "feeb6f02",
   "metadata": {},
   "source": [
    "````{admonition} Esimerkki\n",
    ":class: note \n",
    "Ratkaise x verrannosta $\\frac{5}{x}=\\frac{12}{8}$\n",
    "\n",
    "```{admonition} Ratkaisu\n",
    ":class: dropdown\n",
    "Ristiin kertomalla saadaan $5\\cdot 8 =x\\cdot 12$  , josta ratkaistuna   \n",
    "$x =\\frac{5\\cdot8}{12} = \\frac{40}{8}\\approx 3.33 $\n",
    "```\n",
    "````"
   ]
  },
  {
   "cell_type": "markdown",
   "id": "ea9cb2cd",
   "metadata": {},
   "source": [
    "## Verrannollisuus ja sen lajeja"
   ]
  },
  {
   "cell_type": "markdown",
   "id": "dadabe9c",
   "metadata": {},
   "source": [
    "Verrantoa ja sen ratkaisutekniikkoja voidaan hyödyntää käytännön ongelmien ratkaisuissa silloin, kun tarkasteltavien suureiden välillä on jonkin tyyppinen verrannollisuus. Seuraavassa on muutamia verrannollisuustyyppejä."
   ]
  },
  {
   "cell_type": "markdown",
   "id": "3313e9a7",
   "metadata": {},
   "source": [
    "```{admonition} Suoraan verrannollisuus  \n",
    ":class: tip\n",
    "Suureet x ja y ovat **suoraan verrannolliset** , jos   \n",
    "\n",
    "$y = k\\cdot x$ , missä k on jokin vakiokerroin. \n",
    "\n",
    "Tällöin on voimassa verranto   \n",
    "\n",
    "\n",
    "$\\frac{x_1}{x_2}=\\frac{y_1}{y_2}$ \n",
    "```"
   ]
  },
  {
   "cell_type": "markdown",
   "id": "0ea3c1d8",
   "metadata": {},
   "source": [
    "````{admonition} Esimerkki\n",
    ":class: note \n",
    "Talon 3.0 m² seinän maalaamiseen kului 0.25 ltr maalia. Kuinka paljon maalia kuluu olohuoneen maalaamiseen, kun olohuoneen seinäpinta-ala on 32 m².\n",
    "\n",
    "```{admonition} Ratkaisu\n",
    ":class: dropdown\n",
    "On ilmeistä, että maalin kulutus on suoraan verrannollnen maalattavaan pinta-alaan. Jos merkitään x:llä kysyttyä maalinkulutusta, saadaan verranto   \n",
    "$\\frac{\\text{32 }m^2}{\\text{3.0 } m^{2}}=\\frac{x}{\\text{0.25 ltr}}$, josta laskettuna  \n",
    "$x = 32/3.0*0.25 ltr = 2.7 ltr$\n",
    "\n",
    "```\n",
    "````"
   ]
  },
  {
   "cell_type": "markdown",
   "id": "1f671a8f",
   "metadata": {},
   "source": [
    "```{admonition} Kääntäen verrannollisuus  \n",
    ":class: tip\n",
    "Suureet x ja y ovat **kääntäen verrannolliset** , jos   \n",
    "\n",
    "$y = \\frac{k}{x} $ , missä k on vakio. \n",
    "\n",
    "Kääntäen verrannollisuus voidaan esittää myös niin, että suureiden tulo x y = vakio     \n",
    "$x\\cdot y= k$\n",
    "\n",
    "Verrantomuodossa sama asia voidaan ilmaista seuraavasti    \n",
    "\n",
    "$\\frac{x_1}{x_2}=\\frac{y_2}{y_1}$ \n",
    "```"
   ]
  },
  {
   "cell_type": "markdown",
   "id": "b183a27e",
   "metadata": {},
   "source": [
    "````{admonition} Esimerkki\n",
    ":class: note \n",
    "Mika ajaa töihin 20 minuutissa, kun keskinopeus työmatkalla on 80 km/h.  Kuinka kauan työmatkaan menee, kun keskinopeus on 65 km/h\n",
    "\n",
    "```{admonition} Ratkaisu\n",
    ":class: dropdown\n",
    "Työmatkaan kuluvan ajan ja nopeuden tulo on esimerkin tilanteessa sama kuin työmatkan pituus, joka pysyy samana. Aika ja nopeus ovat siten kääntäen verrannolliset. Jos ajoaikaa nopeudella 65 km/h merkitään t:llä, voidaan t ratkaista joko yhtälöstä   \n",
    "$20 min*80 km/h = t \\cdot 65 km/h$  \n",
    "\n",
    "tai verrannosta, jossa indeksit ovat käänteisessä järjestyksessä ($\\frac{t_1}{t_2}=\\frac{v_2}{v_1}$)\n",
    "\n",
    "\n",
    "$\\frac{t}{20min}=\\frac{80km/h}{65km/h}$.  Ratkaisu on molemmilla tavoilla sama: \n",
    "$t = 80/65*20 min = 24.6 min$\n",
    "\n",
    "```\n",
    "````"
   ]
  },
  {
   "cell_type": "markdown",
   "id": "29800a94",
   "metadata": {},
   "source": [
    "```{admonition} \"y on verrannollinen x:n neliöön\"\n",
    ":class: tip\n",
    "y on verrannollinen x:n neliöön tarkoittaa, että  \n",
    "\n",
    "$y = k\\cdot x^2 $ , missä k on vakio. \n",
    "\n",
    "\n",
    "Verrantomuodossa sama asia voidaan ilmaista seuraavasti    \n",
    "\n",
    "$\\frac{y_1}{y_2}=\\frac{{x_1}^2}{{x_2}^2}$ \n",
    "```"
   ]
  },
  {
   "cell_type": "markdown",
   "id": "538eac75",
   "metadata": {},
   "source": [
    "````{admonition} Esimerkki\n",
    ":class: note \n",
    "Henkilöauton ilmanvastus on verrannollinen auton nopeuden neliöön. Oletetaan, että Audin ilmanvastus nopeudella 100 km/h ajettaessa on 230 N (*Newtonia*).  Mikä on ilmanvastus, kun nopeus on 120 km/h?\n",
    "\n",
    "```{admonition} Ratkaisu\n",
    ":class: dropdown\n",
    "Jos käytetään ilmanvastuksesta ja nopeudesta symboleja F ja v,  saadaan verranto \n",
    "$\\frac{F_1}{F_2}=\\frac{{v_1}^2}{{v_2}^2}$\n",
    "\n",
    "\n",
    "$\\frac{F}{230 N}=\\frac{{(120km/h)}^2}{{(80km/h)}^2}$.     \n",
    "Ratkaisu on molemmilla tavoilla sama: \n",
    "$F = \\frac{{120}^2}{{80}^2}\\cdot 230N \\approx \\text{518 }N$\n",
    "\n",
    "```\n",
    "````"
   ]
  }
 ],
 "metadata": {
  "jupytext": {
   "cell_metadata_filter": "-all",
   "notebook_metadata_filter": "-all",
   "text_representation": {
    "extension": ".md",
    "format_name": "markdown"
   }
  },
  "kernelspec": {
   "display_name": "Python 3 (ipykernel)",
   "language": "python",
   "name": "python3"
  },
  "language_info": {
   "codemirror_mode": {
    "name": "ipython",
    "version": 3
   },
   "file_extension": ".py",
   "mimetype": "text/x-python",
   "name": "python",
   "nbconvert_exporter": "python",
   "pygments_lexer": "ipython3",
   "version": "3.9.7"
  }
 },
 "nbformat": 4,
 "nbformat_minor": 5
}
