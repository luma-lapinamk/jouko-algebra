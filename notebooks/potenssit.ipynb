{
 "cells": [
  {
   "cell_type": "markdown",
   "id": "64e7986e",
   "metadata": {},
   "source": [
    "# Potenssien laskusäännöt"
   ]
  },
  {
   "cell_type": "markdown",
   "id": "1e1c9a40",
   "metadata": {},
   "source": [
    "## Potenssin määritelmä  \n",
    "\n",
    "```{admonition} **Potenssin määritelmä**\n",
    ":class: tip\n",
    "$a^n = \\underset{n\\hspace{2mm} kpl} {a\\cdot a\\hspace{2mm}\\cdot \\hspace{2mm} ...\\hspace{2mm}\\cdot \\hspace{2mm}a}$\n",
    "```"
   ]
  },
  {
   "cell_type": "markdown",
   "id": "01f76da9",
   "metadata": {},
   "source": [
    "## Potenssien laskulakeja    "
   ]
  },
  {
   "cell_type": "markdown",
   "id": "a3a94a53",
   "metadata": {},
   "source": [
    "```{admonition} **Samankantaisten potenssien tulo**\n",
    ":class: tip\n",
    "$x^n\\cdot x^m = x^{n+m}$\n",
    "```"
   ]
  },
  {
   "cell_type": "markdown",
   "id": "6d7802d0",
   "metadata": {},
   "source": [
    "```{admonition} Esimerkki. Sievennä $ a^5\\cdot a^7$\n",
    ":class: dropdown\n",
    "$ a^5\\cdot a^7 = a^{5+7}=a^{12}$\n",
    "```"
   ]
  },
  {
   "cell_type": "markdown",
   "id": "3313e9a7",
   "metadata": {},
   "source": [
    "```{admonition} **Samankantaisten potenssien osamäärä**\n",
    ":class: tip\n",
    "$\\frac {x^n}{x^m} = x^{n-m}$ \n",
    "```"
   ]
  },
  {
   "cell_type": "markdown",
   "id": "43ef5997",
   "metadata": {},
   "source": [
    "```{admonition} Esim. Sievennä $ \\frac{z^7}{z^3}$\n",
    ":class: dropdown\n",
    "$ \\frac{z^7}{z^3} = z^{7-3}=z^4$\n",
    "```"
   ]
  },
  {
   "cell_type": "markdown",
   "id": "2912d1ac",
   "metadata": {},
   "source": [
    "> **Negatiivisen potenssin määritelmä**\n",
    ">\n",
    "> Sievennetään $\\frac {x^2}{x^5}$ kahdella tavalla:  \n",
    ">\n",
    "> Supistamalla $x^2$ :lla saadaan $\\frac {x^2}{x^5}$ = $\\frac {1}{x^3}$  \n",
    "> Samankantaisten potenssien osamäärän kaavaa käyttäen $\\frac {x^2}{x^5}$=$x^{2-5}$=$x^{-3}$  \n",
    ">\n",
    "> On siten mielekästä määritellä negatiivinen potenssi $x^{-3}$ = $\\frac {1}{x^3}$"
   ]
  },
  {
   "cell_type": "markdown",
   "id": "71d94838",
   "metadata": {},
   "source": [
    "````{admonition} **Negatiivinen potenssi**\n",
    ":class: tip\n",
    "$ x^{-n} = \\frac {1} {x^n}$  \n",
    "```{admonition} Seuraus\n",
    ":class: tip\n",
    "Murtoluvun negatiivinen potenssi = sen käänteisluvun vastaava positiivinen potenssi    \n",
    "$ {(\\frac {a}{b})}^{-n} = {(\\frac {b}{a})}^{n}$\n",
    "```\n",
    "````"
   ]
  },
  {
   "cell_type": "markdown",
   "id": "d25d84b7",
   "metadata": {},
   "source": [
    "```{admonition} Esim. Sievennä $ {(\\frac {2}{3})}^{-3}$\n",
    ":class: dropdown\n",
    "$ {(\\frac {2}{3})}^{-3} = {(\\frac {3}{2})}^{3}=\\frac {3 ^3}{2^3} =\\frac {27}{8}$ \n",
    "```"
   ]
  },
  {
   "cell_type": "markdown",
   "id": "faed86d9",
   "metadata": {},
   "source": [
    "> **Luvun potenssi nolla**\n",
    ">\n",
    "> Sievennetään $\\frac {x^4}{x^4}$ kahdella tavalla: Supistamalla saadaan $\\frac {x^4}{x^4}$ = $\\frac {1}{1}$ = 1  \n",
    ">\n",
    "> Samankantaisten potenssien osamäärän kaavalla saadaan $\\frac {x^4}{x^4}$ = $x^{4-4}$ = $x^{0}$ \n",
    ">   \n",
    "> On siten mielekästä määritellä nollas potenssi $x^{0}$ = 1"
   ]
  },
  {
   "cell_type": "markdown",
   "id": "32225e27",
   "metadata": {},
   "source": [
    "```{admonition} **Nollas potenssi**\n",
    ":class: tip\n",
    "$ x^{0} = 1$  kaikille reaaliluvuille x\n",
    "```"
   ]
  },
  {
   "cell_type": "markdown",
   "id": "5a8fdf6b",
   "metadata": {},
   "source": [
    "```{admonition} Esim. Sievennä $ {(\\frac {2}{3})}^{0}$\n",
    ":class: dropdown\n",
    "$ {(\\frac {2}{3})}^{0} = 1$ , koska minkä tahansa luvun 0:s potenssi on 1 \n",
    "```"
   ]
  },
  {
   "cell_type": "markdown",
   "id": "c5b6d280",
   "metadata": {},
   "source": [
    "```{admonition} **Peräkkäiset potenssiin korotukset**\n",
    ":class: tip\n",
    "$ (x^n)^{m} = x^{n m}$  \n",
    "```"
   ]
  },
  {
   "cell_type": "markdown",
   "id": "24840aa8",
   "metadata": {},
   "source": [
    "```{admonition} Sievennä $ (a^7)^{3}$\n",
    ":class: dropdown\n",
    "$ (a^7)^{3}$ = $a^{7\\cdot 3}$ = $a^{21}$\n",
    "```"
   ]
  },
  {
   "cell_type": "markdown",
   "id": "8cfdf3aa",
   "metadata": {},
   "source": [
    "```{admonition} **Tulon korottaminen potenssiin**\n",
    ":class: tip\n",
    "$ (x y)^{m} = x^n y^m$  \n",
    "```"
   ]
  },
  {
   "cell_type": "markdown",
   "id": "2b726e8c",
   "metadata": {},
   "source": [
    "```{admonition} Esim. Sievennä $ (2a b)^{3}$\n",
    ":class: dropdown\n",
    "$ (2a b)^{3}$ = $2^3a^3 b^3$=$8a^3 b^3$ \n",
    "```"
   ]
  },
  {
   "cell_type": "markdown",
   "id": "7f3ad151",
   "metadata": {},
   "source": [
    "```{admonition} **Osamäärän korottaminen potenssiin**\n",
    ":class: tip\n",
    "$ {(\\frac {x} {y})}^{m} = \\frac {x^n} {y^m}$  \n",
    "```"
   ]
  },
  {
   "cell_type": "markdown",
   "id": "6ed9b898",
   "metadata": {},
   "source": [
    "```{admonition} Esim. Sievennä $ {(\\frac {3z} {2y})}^{2}$\n",
    ":class: dropdown\n",
    "$ {(\\frac {3z} {2y})}^{2} = \\frac {3^2z^2} {2^2y^2}=\\frac {9z^2} {4y^2}$ \n",
    "```"
   ]
  }
 ],
 "metadata": {
  "jupytext": {
   "cell_metadata_filter": "-all",
   "notebook_metadata_filter": "-all",
   "text_representation": {
    "extension": ".md",
    "format_name": "markdown"
   }
  },
  "kernelspec": {
   "display_name": "Python 3 (ipykernel)",
   "language": "python",
   "name": "python3"
  },
  "language_info": {
   "codemirror_mode": {
    "name": "ipython",
    "version": 3
   },
   "file_extension": ".py",
   "mimetype": "text/x-python",
   "name": "python",
   "nbconvert_exporter": "python",
   "pygments_lexer": "ipython3",
   "version": "3.9.7"
  }
 },
 "nbformat": 4,
 "nbformat_minor": 5
}
