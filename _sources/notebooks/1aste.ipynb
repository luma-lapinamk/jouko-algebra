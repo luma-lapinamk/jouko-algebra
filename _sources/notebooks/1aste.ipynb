{
 "cells": [
  {
   "cell_type": "markdown",
   "id": "64e7986e",
   "metadata": {},
   "source": [
    "# 1. asteen yhtälöt ja epäyhtälöt"
   ]
  },
  {
   "cell_type": "markdown",
   "id": "01f76da9",
   "metadata": {},
   "source": [
    "## 1. asteen yhtälöt  \n",
    "\n",
    "### Ongelmia, jotka voidaan ratkaista 1. asteen yhtälön avulla "
   ]
  },
  {
   "cell_type": "markdown",
   "id": "6d7802d0",
   "metadata": {},
   "source": [
    "````{admonition} Esim. 1: Eräällä kokonaisluvulla on ominaisuus, että kun lukuun lisätään 10, luku kolminkertaistuu. Esitä ongelma yhtälönä ja ratkaise yhtälö.  \n",
    ":class: dropdown, tip\n",
    "Yhtälö: x + 10 = 3x\n",
    "```{admonition} Yhtälön ratkaisu: \n",
    ":class: dropdown\n",
    "$ x + 10 = 3x$  \n",
    "$ 10 = 3x - x$   \n",
    "$ 10 = 2x$   \n",
    "$ x = 10/5 = 2$\n",
    "```\n",
    "````"
   ]
  },
  {
   "cell_type": "markdown",
   "id": "0ccc34c8",
   "metadata": {},
   "source": [
    "````{admonition} Kaukolämmön kuukausilasku koostuu 55 euron perusmaksusta +  kulutukseen perustuvasta energiamaksusta, joka on 50 eur/MWh. Erään perheen maaliskuun lasku oli 185 euroa. Kuinka monta MWh energiaa perhe kulutti maaliskuussa?  \n",
    ":class: dropdown, tip\n",
    "Vastaus: 2.6 MWh\n",
    "```{admonition} Ratkaisu: \n",
    ":class: dropdown\n",
    "$ 55 + 50 x = 185$    \n",
    "$ 50 x = 185-55 = 130$   \n",
    "$ x = 130/50 = 2.6$\n",
    "```\n",
    "````"
   ]
  },
  {
   "cell_type": "markdown",
   "id": "fc315b68",
   "metadata": {},
   "source": [
    "```{admonition} Ensimmäisen asteen yhtälön ratkaiseminen\n",
    ":class: tip\n",
    "\n",
    "Yhtälö viedään **perusmuotoon** $a x = b$, jonka ratkaisu $x = \\frac {b}{a}$\n",
    "\n",
    "Perusmuotoon pääsemiseksi tarvitaan mm. seuraavia välivaiheita:    \n",
    "\n",
    "1. Mikäli yhtälössä on sulkulausekkeita, poistetaan sulut käyttäen polynomien laskusääntöjä.\n",
    "2. Siirretään termejä siten, että ratkaistavan muuttujan sisältävät termit ja muut termit (vakiot) erotellaan eri puolille yhtälöä. Tämän jälkeen muuttujan kertoimet yhdistetään, samoin toisen puolen vakiot.   \n",
    "> Sääntö: Kun termi siirretään yhtälön puolelta toiselle, sen etumerkki vaihtuu.\n",
    "```"
   ]
  },
  {
   "cell_type": "markdown",
   "id": "1609aebe",
   "metadata": {},
   "source": [
    "### 1. asteen yhtälötyyppejä"
   ]
  },
  {
   "cell_type": "markdown",
   "id": "ef4b3940",
   "metadata": {},
   "source": [
    "````{admonition} Yksinkertainen perustapaus: $ 3 x + 2 = 5 x - 1 $\n",
    ":class: dropdown, tip\n",
    "Vastaus: x = 3/2\n",
    "```{admonition} Ratkaisu: \n",
    ":class: dropdown\n",
    "$ 3x - 5x = -2 - 1$   \n",
    "$ -2x = -3$   \n",
    "$ x = -3/-2 = 3/2$\n",
    "```\n",
    "````"
   ]
  },
  {
   "cell_type": "markdown",
   "id": "4084699c",
   "metadata": {},
   "source": [
    "````{admonition} Yhtälö, jossa on sulkuja: $ 2(3x+1)- 4(x+2) =0 $   \n",
    ":class: dropdown, tip\n",
    "Vastaus: x = 8\n",
    "```{admonition} Ratkaisu: \n",
    ":class: dropdown\n",
    "$ 6x + 2 -4x - 8 =0\\hspace{2mm}$   (sulut poistettu)   \n",
    "$ 6x-4x = 8-2\\hspace{10mm}$        (muuttujat ja vakiot eri puolille)  \n",
    "$ 2x = 6\\hspace{27mm}$             (yhtälö viety perusmuotoon)   \n",
    "$ x = 3$\n",
    "```\n",
    "````"
   ]
  },
  {
   "cell_type": "markdown",
   "id": "1ef3aa56",
   "metadata": {},
   "source": [
    "````{admonition} Kertoimet muita kuin rationaalilukuja: $\\sqrt{2}x+4=5-\\sqrt{3}x $   \n",
    ":class: dropdown, tip\n",
    "Vastaus: $x = \\frac {1}{\\sqrt{2}+\\sqrt{3}}$\n",
    "```{admonition} Ratkaisu: \n",
    ":class: dropdown\n",
    "$ \\sqrt{2}x +\\sqrt{3}x =5 -4$      \n",
    "$ (\\sqrt{2} +\\sqrt{3})x =1$      \n",
    "$ x = \\frac {1}{\\sqrt{2}+\\sqrt{3}}$\n",
    "```\n",
    "````"
   ]
  },
  {
   "cell_type": "markdown",
   "id": "9237e06f",
   "metadata": {},
   "source": [
    "````{admonition} Kertoimet parametreja: $ a x + 1 = b - 5x $   \n",
    ":class: dropdown, tip\n",
    "Vastaus: $x = \\frac {b-1}{a+5} ,\\hspace{4mm} a \\neq -5$\n",
    "```{admonition} Ratkaisu: \n",
    ":class: dropdown\n",
    "$ a x + 5 x = b - 1\\hspace{15mm}$     muuttujat ja vakiot eroteltu   \n",
    "\n",
    "$ (a + 5)x =b - 1\\hspace{15mm}$       muuttujan x kertoimet yhdistetty   \n",
    "\n",
    "$ x = \\frac {b-1}{a+5}\\hspace{30mm}$   yhtälö jaettu x:n kertoimella   \n",
    "\n",
    "Saatu ratkaisu on mahdollinen vain jos $a \\neq -5$. (nimittäjä a+5 ei saa olla 0)  \n",
    "(Jos a = -5, yhtälöstä tulee 1 = b, joka on joko identtisesti tosi tai epätosi riippuen b:n arvosta)\n",
    "```\n",
    "````"
   ]
  },
  {
   "cell_type": "markdown",
   "id": "b6d44a2e",
   "metadata": {},
   "source": [
    "````{admonition} Suureyhtälö: Ratkaise t yhtälöstä $ v = v_{0} + a t $   \n",
    ":class: dropdown, tip\n",
    "Vastaus: $t = \\frac {v-v_{0}}{a}$ \n",
    "```{admonition} Ratkaisu: \n",
    ":class: dropdown\n",
    "$ v - v_{0} = a\\cdot t \\hspace{15mm}$     muuttujan t sisältävä termi yksin oikealla puolen      \n",
    "\n",
    "$ t = \\frac {v-v_{0}}{a}\\hspace{24mm}$    yhtälö jaettu t:n kertoimella   \n",
    "\n",
    "```\n",
    "````"
   ]
  },
  {
   "cell_type": "markdown",
   "id": "ca6a5417",
   "metadata": {},
   "source": [
    "````{admonition} Yhtälössä kokonaislukunimittäjiä $ \\frac {2x+1}{3}+x= \\frac {x-1}{2}$   \n",
    ":class: dropdown, tip\n",
    "Vastaus: $x = -\\frac {5}{7}$ \n",
    "```{admonition} Ratkaisu: \n",
    ":class: dropdown\n",
    "Kerrotaan yhtälön kaikki termit nimittäjien pienimmällä yhteisellä jaettavalla, luvulla 6    \n",
    "$ 6\\frac {2x+1}{3}+6x= 6\\frac {x-1}{2}$    \n",
    "Nimittäjät supistuvat pois, yhtälöön jää vielä poistettavia sulkulausekkeita    \n",
    "$2(2x+1)+6x=3(x-1)$   \n",
    "$4x+2+6x=3x - 3$    \n",
    "$4x+6x-3x=-2 - 3$   \n",
    "$7x= -5$    \n",
    "$x= -5/7$\n",
    "\n",
    "```\n",
    "````"
   ]
  },
  {
   "cell_type": "markdown",
   "id": "ea9cb2cd",
   "metadata": {},
   "source": [
    "## 1. asteen epäyhtälöt"
   ]
  },
  {
   "cell_type": "markdown",
   "id": "5a25395f",
   "metadata": {},
   "source": [
    "````{admonition} Esim. 1: Millä muuttujan x arvoilla funktio f(x) = 3 x - 1 saa negatiivisia arvoja? \n",
    ":class: dropdown\n",
    "Vastaus: x < 1/3\n",
    "```{admonition} Epäyhtälön ratkaisu: \n",
    ":class: dropdown\n",
    "Ratkaistaan epäyhtälö yhtälön tapaan.   \n",
    "$ 3x - 1 < 0$    \n",
    "$ 3x < 1$     \n",
    "$ x < 1/3$\n",
    "\n",
    "```\n",
    "````"
   ]
  },
  {
   "cell_type": "markdown",
   "id": "44f6eb04",
   "metadata": {},
   "source": [
    "```{admonition} Ensimmäisen asteen epäyhtälön ratkaiseminen\n",
    ":class: tip\n",
    "\n",
    "1. Yhtälö viedään **perusmuotoon** $a x < b$ samoilla keinoilla kuin yhtälöä ratkaistaessa.    \n",
    "    \n",
    "2. Epäyhtälössä < -merkin tilalla voi olla > , $\\le$ tai $\\ge$ \n",
    "\n",
    "3. Perusmuotoinen yhtälö a x < b jaetaan x:n kertoimella a.\n",
    "> Jos a on negatiivinen, erisuuruusmerkin suunta kääntyy\n",
    "```"
   ]
  },
  {
   "cell_type": "markdown",
   "id": "43ef5997",
   "metadata": {},
   "source": [
    "```{admonition} Ratkaise x, kun  $ 3 x \\ge -2$\n",
    ":class: dropdown\n",
    "Jaetaan epäyhtälö puolittain luvulla 3. Erisuuruusmerkin suunta säilyy.\n",
    "$ x \\ge -2/3$\n",
    "```"
   ]
  },
  {
   "cell_type": "markdown",
   "id": "8d1888c9",
   "metadata": {},
   "source": [
    "```{admonition} Ratkaise x, kun  $ -2 x \\le 11$\n",
    ":class: dropdown\n",
    "Jaetaan epäyhtälö puolittain luvulla -2. Erisuuruusmerkin suunta kääntyy.\n",
    "$ x \\ge -11/2$\n",
    "```"
   ]
  }
 ],
 "metadata": {
  "jupytext": {
   "cell_metadata_filter": "-all",
   "notebook_metadata_filter": "-all",
   "text_representation": {
    "extension": ".md",
    "format_name": "markdown"
   }
  },
  "kernelspec": {
   "display_name": "Python 3 (ipykernel)",
   "language": "python",
   "name": "python3"
  },
  "language_info": {
   "codemirror_mode": {
    "name": "ipython",
    "version": 3
   },
   "file_extension": ".py",
   "mimetype": "text/x-python",
   "name": "python",
   "nbconvert_exporter": "python",
   "pygments_lexer": "ipython3",
   "version": "3.9.7"
  }
 },
 "nbformat": 4,
 "nbformat_minor": 5
}
