{
 "cells": [
  {
   "cell_type": "markdown",
   "id": "64e7986e",
   "metadata": {},
   "source": [
    "# 2. asteen yhtälöt ja epäyhtälöt"
   ]
  },
  {
   "cell_type": "markdown",
   "id": "01f76da9",
   "metadata": {},
   "source": [
    "\n",
    "```{admonition} Toisen asteen yhtälön perusmuoto\n",
    ":class: tip\n",
    "\n",
    "$a x^2 + bx + c = 0$\n",
    "```\n",
    "**Ongelma, joka voidaan ratkaista 2. asteen yhtälöllä**"
   ]
  },
  {
   "cell_type": "markdown",
   "id": "cdb0206c",
   "metadata": {},
   "source": [
    "````{admonition} Esim. Suorakaiteen muotoista tonttia ympäröivän aidan pituus on 100 m ja tontin ala on 600 m². Määritä tontin sivujen pituudet.  \n",
    ":class: dropdown\n",
    "Vastaus: Tontin sivut ovat 20 m ja 30 m.\n",
    "```{admonition} Ratkaisu: \n",
    ":class: dropdown\n",
    "Merkitään tontin sivua x:llä. Toinen sivu on tällöin 50 - x ja tontin alan lauseke on x(50-x).   \n",
    "Ratkaistaan x yhtälöstä   \n",
    "$ x(50-x)=600$   \n",
    "$ 50x-x^2=600$  \n",
    "$ -x^2+50x-600 = 0$   \n",
    "\n",
    "Käytetään ratkaisukaavaa $x = \\frac{-b\\pm \\sqrt{b^2-4ac}}{2a}$   \n",
    "Sijoittamalla a=-1, b=50 ja c=-600 saadaan kaksi ratkaisua:    \n",
    "$ x = 20$ tai $x = 30$   \n",
    "Jos x=20, toinen sivu on 50-20=30. Toinen ratkaisu x=30 johtaa samoihin sivujen pituuksiin.    \n",
    "Vastaus: sivujen pituudet ovat siten 20 m ja 30 m\n",
    "```\n",
    "````"
   ]
  },
  {
   "cell_type": "markdown",
   "id": "a3a94a53",
   "metadata": {},
   "source": [
    "## Toisen asteen yhtälön ratkaisumenetelmiä"
   ]
  },
  {
   "cell_type": "markdown",
   "id": "be0bd524",
   "metadata": {},
   "source": [
    "```{admonition} Toisen asteen yhtälön ratkaisukaava \n",
    ":class: tip\n",
    "Perusmuotoinen 2. asteen yhtälö $a x^2 + bx + c = 0$ voidaan aina ratkaista ratkaisukaavalla  \n",
    "  \n",
    "$x = \\frac{-b\\pm \\sqrt{b^2-4ac}}{2a}$ \n",
    "\n",
    "```"
   ]
  },
  {
   "cell_type": "markdown",
   "id": "6d7802d0",
   "metadata": {},
   "source": [
    "````{admonition} Ratkaise yhtälö $ 1.7 x^2 + 5.2x - 11.2 = 0$\n",
    ":class: dropdown\n",
    "Vastaus: x = -4.52 tai x = 1.46\n",
    "```{admonition} Ratkaisu: \n",
    ":class: dropdown\n",
    "Sijoitetaan ratkaisukaavaan a = 1.7, b =5.2 ja c = -11.2    \n",
    "$x = \\frac{-5.2\\pm \\sqrt{5.2^2-4\\cdot1.7\\cdot(-11.2)}}{2\\cdot1.7}$    \n",
    "x = -4.52 tai x = 1.46\n",
    "```\n",
    "````"
   ]
  },
  {
   "cell_type": "markdown",
   "id": "83f18154",
   "metadata": {},
   "source": [
    "```{admonition} Vaillinnainen 2. asteen yhtälö $a x^2 + b\\cdot x=0$ \n",
    ":class: tip\n",
    "Yhtälön vasen puoli voidaan kirjoittama tulomuodossa, jolloin yhtälö saa muodon  \n",
    "$x(a x + b) = 0$  \n",
    "Tulon nollasäännön mukaan tulo = 0 vain jos joku sen tekijöistä on nolla.   \n",
    "Siten x = 0 tai a x + b = 0.  Jälkimmäisen yhtälön juuri on x = -b/a     \n",
    "\n",
    "Ratkaisut ovat siten $x = 0$  tai $x = -b/a$  \n",
    "\n",
    "```"
   ]
  },
  {
   "cell_type": "markdown",
   "id": "1bbe8e01",
   "metadata": {},
   "source": [
    "````{admonition} Ratkaise yhtälö $ 1.2 x^2 + 9.2 x  = 0$\n",
    ":class: dropdown\n",
    "Vastaus: x = -7.67 tai x = 1.46\n",
    "```{admonition} Ratkaisu: \n",
    ":class: dropdown\n",
    "Otetaan vasemmalta puolen x yhteiseksi tekijäksi   \n",
    "$x(1.2 x + 9.2) = 0$   \n",
    "$x = 0$  tai $1.2 x  + 9.2 = 0$    \n",
    "$x = 0$  tai $x = -9.2/1.2 =- 7.67$   \n",
    "Ratkaisut: x = -7.67 tai x = 0\n",
    "```\n",
    "````"
   ]
  },
  {
   "cell_type": "markdown",
   "id": "1272a95a",
   "metadata": {},
   "source": [
    "```{admonition} Vaillinnainen 2. asteen yhtälö $a x^2 + c=0$ \n",
    ":class: tip\n",
    "Ratkaistaan yhtälö 1. asteen yhtälön tapaan neliön $x^2$ suhteen.   \n",
    "$ a x^2  = -c$ =>  $ x^2  = \\frac{-c}{a}$    \n",
    "\n",
    "Jos oikea puoli -c/a on negatiivinen, ei yhtälöllä ole ratkaisuja.    \n",
    "Jos -c/a on positiivinen, saadaan kaksi ratkaisua neliöjuuren otolla:\n",
    "\n",
    "Ratkaisut ovat  $x = -\\sqrt{-c/a}$  tai $x = \\sqrt{-c/a}$  \n",
    "\n",
    "```"
   ]
  },
  {
   "cell_type": "markdown",
   "id": "e4b248eb",
   "metadata": {},
   "source": [
    "````{admonition} Ratkaise yhtälö $ 5.1 x^2 - 3.2  = 0$\n",
    ":class: dropdown\n",
    "Vastaus: x = -0.79 tai x = 0.79\n",
    "```{admonition} Ratkaisu: \n",
    ":class: dropdown\n",
    "Ratkaistaan yhtälö aluksi $x^2$:n suhteen    \n",
    "$ 5.1 x^2 = 3.2$    \n",
    "$ x^2 = 3.2/5.1 = 0.627$   \n",
    "\n",
    "Ratkaistaan lopuksi x:  \n",
    "$x = \\pm \\sqrt{0.627} = \\pm 0.79$   \n",
    "Ratkaisut: x = -0.79 tai x = 0.79\n",
    "```\n",
    "````"
   ]
  },
  {
   "cell_type": "markdown",
   "id": "ec453029",
   "metadata": {},
   "source": [
    "```{admonition} Toisen asteen yhtälön graafinen ratkaiseminen\n",
    ":class: tip\n",
    "Toisen asteen polynomifunktion $y = a x^2 + b x + c$  kuvaaja on **paraabeli**.    \n",
    "\n",
    "Perusmuotoinen 2. asteen yhtälö $a x^2 + b x + c = 0$  voidaan ratkaista grafiikkalaskimella piirtämällä yhtälön vasemman puolen polynomifunktion kuvaaja. Yhtälön ratkaisut voidaan lukea paraabelin ja x-akselin leikkauspisteistä.\n",
    "```"
   ]
  },
  {
   "cell_type": "markdown",
   "id": "206ef334",
   "metadata": {},
   "source": [
    "> Esimerkki. Ratkaise yhtälö $x^2+5x-6=0$ graafisesti."
   ]
  },
  {
   "cell_type": "markdown",
   "id": "22aa8e40",
   "metadata": {},
   "source": [
    "```{admonition} WolframAlpha:n plot\n",
    ":class: note\n",
    "WolframAlpha.com -laskimessa funktion kuvaaja piirretään komennolla plot   \n",
    "esim. plot $x^2+5x-6$   \n",
    "Piirrettävää kohtaa kuvaajasta voi tarkentaa *from* ... *to*... määreillä muotoon    \n",
    "plot $x^2+5x-6$ from -8 to 3\n",
    "```"
   ]
  },
  {
   "cell_type": "markdown",
   "id": "ad490de5",
   "metadata": {},
   "source": [
    "![kuva1](../images/para1.PNG \"Kuvaaja\")"
   ]
  },
  {
   "cell_type": "markdown",
   "id": "ce19730f",
   "metadata": {},
   "source": [
    "> Kuvaajasta luettu yhtälön ratkaisu on seuraava.\n",
    "> x = -6  tai x = 1"
   ]
  },
  {
   "cell_type": "markdown",
   "id": "ea9cb2cd",
   "metadata": {},
   "source": [
    "## 2. asteen yhtälön juurten lukumäärä"
   ]
  },
  {
   "cell_type": "markdown",
   "id": "7aeb71df",
   "metadata": {},
   "source": [
    "Toisen asteen yhtälön ratkaisukaavassa $x = \\frac{-b\\pm \\sqrt{b^2-4ac}}{2a}$ neliöjuuren \n",
    "sisällä olevaa lauseketta $b^2 - 4 a c$ kutsutaan **diskriminantiksi**     \n",
    "\n",
    "Diskriminantin etumerkki määrää yhtälön ratkaisujen lukumäärän."
   ]
  },
  {
   "cell_type": "markdown",
   "id": "c96140a6",
   "metadata": {},
   "source": [
    "\n",
    "```{admonition} Toisen asteen yhtälön ratkaisujen lukumäärä \n",
    ":class: tip\n",
    "Yhtälön $a x^2 + b x + c = 0$ diskriminantti D = $b^2 - 4 a c$    \n",
    "     \n",
    "Jos D > 0,  yhtälöllä on kaksi eri suurta reaalijuurta   \n",
    "Jos D < 0,  yhtälöllä ei ole reaalisia ratkaisuja    \n",
    "Jos D = 0,  yhtälöllä on yksi reaalinen ratkaisu \n",
    "```"
   ]
  },
  {
   "cell_type": "markdown",
   "id": "c4e69986",
   "metadata": {},
   "source": [
    "## 2. asteen epäyhtälöt"
   ]
  },
  {
   "cell_type": "markdown",
   "id": "226e24f3",
   "metadata": {},
   "source": [
    "Toisen asteen epäyhtälö voidaan ratkaista esim. seuraavasti:   \n",
    "\n",
    "> 1. Viedään yhtälö perusmuotoon $a x^2+b x + c > 0$ (erisuuruusmerkki voi olla myös $\\lt$,$\\ge$ tai $\\le$.\n",
    "> 2. Ratkaistaan yhtälön $a x^2 + b x + c = 0$ juuret, mikäli niitä on\n",
    "> 3. Piirretään paraabeli $y = a x^2 + b x + c $\n",
    "> 4. Kirjoitetaan yhtälön ratkaisu kuvaajan ja juurten avulla."
   ]
  },
  {
   "cell_type": "markdown",
   "id": "f6a8c7c4",
   "metadata": {},
   "source": [
    "````{admonition} Ratkaise epäyhtälö $ 2 x^2 + 3 x -5 < 0$\n",
    ":class: dropdown\n",
    "Vastaus: $-\\frac{5}{2}< x < 1$\n",
    "```{admonition} Ratkaisu: \n",
    ":class: dropdown\n",
    "Ratkaistaan yhtälö $ 2 x^2 + 3 x -5 = 0$ esim. laskimen solve:lla. Juuret ovat -5/2 ja 1   \n",
    "Piirretään käyrä y = $ 2 x^2 + 3 x -5 $ , joka aukeaa ylös leikaten x-akselia kohdissa -5/2 ja 1.    \n",
    "\n",
    "Todetaan, että epäyhtälö toteutuu juurten välissä.   \n",
    "Ratkaisu ilmoitetaan kaksoisepäyhtälönä $-\\frac{5}{2}< x < 1$     \n",
    "![kuva2](../images/para2.PNG)\n",
    "\n",
    "```\n",
    "````"
   ]
  },
  {
   "cell_type": "markdown",
   "id": "2d9c7122",
   "metadata": {},
   "source": [
    "````{admonition} Ratkaise epäyhtälö $ -2 x^2 - 1 < 0$\n",
    ":class: dropdown\n",
    "Vastaus: ratkaisuna kaikki reaaliluvut\n",
    "```{admonition} Ratkaisu: \n",
    ":class: dropdown\n",
    "Ratkaistaan aluksi yhtälö $ -2 x^2 -1 = 0$    \n",
    "Muodosta $x^2 = -1/2$ nähdään että juuria ei ole   \n",
    "Paraabeli y = $ -2 x^2 -1 $ aukeaa alas ja sijaitsee kokonaisuudessaan x- akselin alapuolella.    \n",
    "\n",
    "Todetaan, että epäyhtälö on aina voimassa   \n",
    "Ratkaisu ilmoitetaan joko sanallisessa muodossa \"ratkaisuna kaikki reaaliluvut\"   \n",
    "tai ratkaisujoukkona Rj = $\\mathbb{R}$    \n",
    "![kuva3](../images/para3.PNG)\n",
    "\n",
    "```\n",
    "````"
   ]
  },
  {
   "cell_type": "markdown",
   "id": "4a2faaa5",
   "metadata": {},
   "source": [
    "### 2. asteen yhtälön ratkaisujen esitystapoja"
   ]
  },
  {
   "cell_type": "markdown",
   "id": "be79b4ef",
   "metadata": {},
   "source": [
    "Epäyhtälön ratkaisuna saadaan tyypillisesti lukusuoralla juurten välinen tai juurten ulkopuolella oleva alue. Jos epäyhtälöä vastaavalla yhtälöllä ei ole juuria, on mahdollista, että ratkaisuja ei ole tai että ratkaisujoukko käsittää kaikki reaaliluvut.    \n",
    "\n",
    "Eri ratkaisuvaihtoehdot voidaan esittää joko epäyhtälöinä tai joukko-opin merkintöjä käyttäen\n",
    "\n",
    "| Epäyhtälömerkintä             | \"Ratkaisujoukko\" -merkintä   |\n",
    "|:-----------------------------:|:----------------------------:|\n",
    "| $-1\\lt x\\lt 3$                | ]-1,3[                       |\n",
    "| $-1\\le x \\le2$                | [-1,3]                       |\n",
    "| $x\\le-1$ tai $x\\ge3$          | $]-\\infty,-1]\\cup [3,\\infty[$|\n",
    "| ei ratkaisua                  | {}                           |\n",
    "| ratkaisuna kaikki reaaliluvut | $\\mathbb{R}$                 |\n",
    "\n",
    "$*)$ {} tarkoittaa tyhjää joukkoa, jota voidaan myös merkitä symbolilla $\\emptyset$    \n",
    "Välimerkinnöissä $[a,b]$ ja $]a,b[$ sulkujen suunta kertoo, ovatko päätepisteet mukana (ks. taulukko) "
   ]
  }
 ],
 "metadata": {
  "jupytext": {
   "cell_metadata_filter": "-all",
   "notebook_metadata_filter": "-all",
   "text_representation": {
    "extension": ".md",
    "format_name": "markdown"
   }
  },
  "kernelspec": {
   "display_name": "Python 3 (ipykernel)",
   "language": "python",
   "name": "python3"
  },
  "language_info": {
   "codemirror_mode": {
    "name": "ipython",
    "version": 3
   },
   "file_extension": ".py",
   "mimetype": "text/x-python",
   "name": "python",
   "nbconvert_exporter": "python",
   "pygments_lexer": "ipython3",
   "version": "3.9.7"
  }
 },
 "nbformat": 4,
 "nbformat_minor": 5
}
