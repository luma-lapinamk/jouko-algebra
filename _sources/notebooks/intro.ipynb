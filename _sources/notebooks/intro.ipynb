{
 "cells": [
  {
   "cell_type": "markdown",
   "id": "090d0208",
   "metadata": {},
   "source": [
    "# Algebran oppimateriaalia \n",
    "\n",
    "Sisältö: Prosenttilaskut, potenssien laskusäännöt, murtoluvut ja -lausekkeet, juurilausekkeet, polynomien peruslaskutoimitukset, 1. ja 2. asteen yhtälöt ja epäyhtälöt, yhtälöryhmät, suoran yhtälö, lineaarinen malli ja 2. asteen polynomimalli, verrannot ja verrannollisuus, mittakaava, eksponenttiyhtälöt ja logaritmi \n"
   ]
  }
 ],
 "metadata": {
  "kernelspec": {
   "display_name": "Python 3 (ipykernel)",
   "language": "python",
   "name": "python3"
  },
  "language_info": {
   "codemirror_mode": {
    "name": "ipython",
    "version": 3
   },
   "file_extension": ".py",
   "mimetype": "text/x-python",
   "name": "python",
   "nbconvert_exporter": "python",
   "pygments_lexer": "ipython3",
   "version": "3.9.7"
  }
 },
 "nbformat": 4,
 "nbformat_minor": 5
}
