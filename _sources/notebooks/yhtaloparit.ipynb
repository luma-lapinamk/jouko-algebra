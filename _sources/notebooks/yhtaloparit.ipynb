{
 "cells": [
  {
   "cell_type": "markdown",
   "id": "64e7986e",
   "metadata": {},
   "source": [
    "# Yhtälöparit"
   ]
  },
  {
   "cell_type": "markdown",
   "id": "01f76da9",
   "metadata": {},
   "source": [
    "## Lineaariset yhtälöparit  "
   ]
  },
  {
   "cell_type": "markdown",
   "id": "3564c143",
   "metadata": {},
   "source": [
    "```{admonition} Lineaarisen yhtälöparin perusmuoto    \n",
    ":class: tip\n",
    "$\\begin{matrix}\n",
    "a_1 x + a_2 y = b_1\\\\\n",
    "a_3 x + a_4 y = b_2\n",
    "\\end{matrix}$\n",
    "\n",
    "```\n",
    "Muuttujat x ja y ovat vasemmalla puolen omissa sarakkeissaan, vakiot oikealla puolen yhtälöitä.\n"
   ]
  },
  {
   "cell_type": "markdown",
   "id": "a3a94a53",
   "metadata": {},
   "source": [
    "Perinteisiä ratkaisutapoja ovat  **eliminoimismenetelmä** ja **sijoitusmenetelmä**"
   ]
  },
  {
   "cell_type": "markdown",
   "id": "af513fd6",
   "metadata": {},
   "source": [
    "```{admonition} Eliminoimismenetelmä    \n",
    ":class: tip\n",
    "Kerrotaan jompikumpi tai molemmat yhtälöistä sopivilla vakioilla siten, että   \n",
    "jommankumman muuttujan kertoimet yhtälöissä ovat vastaluvut.   \n",
    "Lasketaan yhtälöt yhteen, jolloin saadaan 1. asteen yhtälö, josta toinen muuttujista voidaan ratkaista \n",
    "Ratkaistu muuttuja sijoitetaan johonkin alkuperäisistä yhtälöistä ja ratkaistan toinen muuttuja.\n",
    "```"
   ]
  },
  {
   "cell_type": "markdown",
   "id": "6d7802d0",
   "metadata": {},
   "source": [
    "````{admonition} Esim. Ratkaise eliminoimismenetelmällä yhtälöpari    \n",
    ":class: note\n",
    "$\\begin{matrix}\n",
    "2x-5y=-4\\\\\n",
    "3x+2y=13\n",
    "\\end{matrix}$  \n",
    "```{admonition} Ratkaisu\n",
    ":class: dropdown\n",
    "Kerrotaan 1. yhtälö luvulla 2 ja 2. yhtälö luvulla 5 , jolloin saadaan     \n",
    "$\\begin{matrix}\n",
    "4x-10y=-8 \\\\\n",
    "15x+10y=65\n",
    "\\end{matrix}$    \n",
    "\n",
    "Lasketaan yhtälöt puolittain yhteen. Saadaan 19 x = 57, josta x = 57/9 = 3    \n",
    "Sijoitetaan tämä 1. yhtälöön, jolloin saadaan 2*3-5y=-4 eli 10 = 5y , josta y = 2   \n",
    "\n",
    "Vastaus:  **x = 3 ja y = 2**\n",
    "\n",
    "```\n",
    "````"
   ]
  },
  {
   "cell_type": "markdown",
   "id": "1277dafb",
   "metadata": {},
   "source": [
    "```{admonition} Sijoitusmenetelmä    \n",
    ":class: tip\n",
    "1. Ratkaistaan 1. (tai 2.) yhtälö esim. x:n suhteen.    \n",
    "2. Sijoitetaan saatu lauseke kyseisen x:n tilalle toiseen yhtälöön, josta ratkaistaan y.    \n",
    "3. x saadaan sijoittamalla y kohdassa 1. saatuun lausekkeeseen\n",
    "```"
   ]
  },
  {
   "cell_type": "markdown",
   "id": "81660375",
   "metadata": {},
   "source": [
    "````{admonition} Esim. Ratkaise sijoitusmenetelmällä yhtälöpari \n",
    ":class: note\n",
    "$\\begin{matrix}\n",
    "2x-5y=-4 \\\\\n",
    "3x+2y=13\n",
    "\\end{matrix}$     \n",
    "```{admonition} Ratkaisu\n",
    ":class: dropdown\n",
    "1. Ratkaistaan 1. yhtälö x:n suhteen. Saadaan 2x=5y-4 , josta x = 5/2y - 2  \n",
    "2. Sijoitetaan tämä 2.:een yhtälöön => 3(5/2y-2)+2y = 13 => 15/2 y -6 + 2y=13 => 19/2 y = 19 => y = 2 \n",
    "3. Sijoitetaan tämä kohdassa 1 saatuun lausekkeeseen => x = $5/2\\cdot2-2$ = 3  \n",
    "\n",
    "Vastaus:  **x = 3 ja y = 2**\n",
    "\n",
    "```\n",
    "````"
   ]
  },
  {
   "cell_type": "markdown",
   "id": "ea9cb2cd",
   "metadata": {},
   "source": [
    "## Lineaarisen yhtälöparin ratkaisukaava"
   ]
  },
  {
   "cell_type": "markdown",
   "id": "3313e9a7",
   "metadata": {},
   "source": [
    "Kun ratkaistaan WolframAlpha-laskimen solvella lineaarisen yhtälöparin yleinen muoto, saadaan tuloksena käyttökelpoinen yleinen ratkaisukaava.   \n",
    "\n",
    "![kaava](../images/kaava.PNG)"
   ]
  },
  {
   "cell_type": "markdown",
   "id": "0c73e4fb",
   "metadata": {},
   "source": [
    "Kaavan lausekkeet ovat hankalan näköisiä murtolausekkeita, mutta ne voidaan esittää hyvin yksinkertaisella tavalla ottamalla käyttöön **determinantin** käsite."
   ]
  },
  {
   "cell_type": "markdown",
   "id": "6436d537",
   "metadata": {},
   "source": [
    "### Matriisi, neliömatriisi ja determinantti"
   ]
  },
  {
   "cell_type": "markdown",
   "id": "43ef5997",
   "metadata": {},
   "source": [
    "```{admonition} Matriisi    \n",
    ":class: tip\n",
    "2 -ulotteista lukutaulukkoa kutsutaan **matriisiksi** \n",
    "Esim. ao. matriisia A sanotaa 2x3 matriisiksi (2 riviä, 3 saraketta)\n",
    "\n",
    "$ A = \\begin{pmatrix}\n",
    "1 & 5 & 4 \\\\\n",
    "3 & 2 & 1\n",
    "\\end{pmatrix} $  \n",
    "\n",
    "Tärkeitä matriiseja ovat **neliömatriisit**. \n",
    "Alla olevaa matriisia sanotaan 2x2 neliömatriisiksi     \n",
    "\n",
    "$B = \\begin{pmatrix}\n",
    "1 & 5  \\\\\n",
    "3 & 2\n",
    "\\end{pmatrix}$\n",
    "\n",
    "```"
   ]
  },
  {
   "cell_type": "markdown",
   "id": "120245d3",
   "metadata": {},
   "source": [
    "```{admonition} 2x2 neliömatriisin determinantti   \n",
    ":class: tip\n",
    "Neliömatriiseihin liittyy reaaliluku, jota sanotaan **determinantiksi**.\n",
    "Determinantissa matriisin sulkujen tilalla ovat pystyviivat.   \n",
    "\n",
    "2x2-determinantti lasketaan lävistäjäalkioiden tulojen erotuksena:    \n",
    "    \n",
    "$\\begin{vmatrix}\n",
    "a & b \\\\\n",
    "c & d\n",
    "\\end{vmatrix} = a\\cdot d - c\\cdot b$  \n",
    "\n",
    "Esim.    \n",
    "$\\begin{vmatrix}\n",
    "2 & 4 \\\\\n",
    "1 & 5\n",
    "\\end{vmatrix} = 2\\cdot 5- 1\\cdot 4 = 6$   \n",
    "\n",
    "```\n",
    "Useimpiin laskimiin voi nykyään syöttää matriisin ja laskea determinantin. \n",
    "WolframAlpha -laskimessa yo. determinantti lasketaan komennolla **det ((2,4),(1,5))**"
   ]
  },
  {
   "cell_type": "markdown",
   "id": "7e21917f",
   "metadata": {},
   "source": [
    "````{admonition} Laske determinantti   \n",
    ":class: note\n",
    "$\\begin{vmatrix}\n",
    "3 & -5 \\\\\n",
    "1 &  2\n",
    "\\end{vmatrix}$    \n",
    "```{admonition} Ratkaisu\n",
    ":class: dropdown\n",
    "Determinantin arvo on $3\\cdot 2-1\\cdot (-5) = 11$\n",
    "```\n",
    "````"
   ]
  },
  {
   "cell_type": "markdown",
   "id": "575fce58",
   "metadata": {},
   "source": [
    "### Lineaarisen yhtälöparin ratkaisukaavan determinanttimuoto"
   ]
  },
  {
   "cell_type": "markdown",
   "id": "71d94838",
   "metadata": {},
   "source": [
    "```{admonition} \"Cramerin kaavat lineaarisen yhtälöparin ratkaisussa\"\n",
    ":class: tip\n",
    "Yhtälöryhmän \n",
    "$\\begin{matrix}\n",
    "a_1 x + a_2 y = b_1\\\\\n",
    "a_3 x + a_4 y = b_2\n",
    "\\end{matrix}$ ratkaisut saadaan kaavoista    \n",
    "\n",
    "$x = \\frac{Dx}{D}$     \n",
    "\n",
    "$y = \\frac{Dy}{D}$    \n",
    "\n",
    " D = $\\begin{vmatrix}\n",
    "a_1 & a_2 \\\\\n",
    "a_3 &  a_4\n",
    "\\end{vmatrix}$   (vasemman puolen kertoimien muodostama determinantti)  \n",
    "\n",
    "Dx = $\\begin{vmatrix}\n",
    "b_1 & a_2 \\\\\n",
    "b_2 &  a_4\n",
    "\\end{vmatrix}$   (D:n sarake 1 korvattu oikean puolen vakioilla)\n",
    "\n",
    "Dy = $\\begin{vmatrix}\n",
    "a_1 & b_1 \\\\\n",
    "a_3 &  b_2\n",
    "\\end{vmatrix}$   (D:ssä sarake 2 korvattu oikean puolen vakioilla)\n",
    "```"
   ]
  },
  {
   "cell_type": "markdown",
   "id": "d25d84b7",
   "metadata": {},
   "source": [
    "````{admonition} Ratkaise yhtälöpari \n",
    ":class: note\n",
    "$\\begin{matrix}\n",
    "2 x - 5 y = -4\\\\\n",
    "3 x + 2 y = 13\n",
    "\\end{matrix}$     \n",
    "\n",
    "```{admonition} Ratkaisu\n",
    ":class: dropdown\n",
    "\n",
    "D = $\\begin{vmatrix}\n",
    "2 & -5 \\\\\n",
    "3 &  2\n",
    "\\end{vmatrix}$ = $2\\cdot2-3\\cdot(-5)$ = 19  \n",
    "\n",
    "Dx = $\\begin{vmatrix}\n",
    "-4 & -5 \\\\\n",
    "13 &  2\n",
    "\\end{vmatrix}$ = $-4\\cdot2-13\\cdot(-5)$ = 57 \n",
    "\n",
    "Dy = $\\begin{vmatrix}\n",
    "2 & -4 \\\\\n",
    "3 &  13\n",
    "\\end{vmatrix}$  = $2\\cdot13-3\\cdot(-4)$ = 38\n",
    "\n",
    "Cramerin kaavoilla saadaan ratkaisuksi \n",
    "x = Dx/D = 57/19 = 3, y = Dy/D = 38/19 = 2\n",
    "\n",
    "```\n",
    "````"
   ]
  },
  {
   "cell_type": "markdown",
   "id": "0f167acf",
   "metadata": {},
   "source": [
    "Determinanttikaavojen etu on se, että ne automatisoivat lineaarisen yhtöparin ratkaisun ja kaavat on helppo koodata laskimiin.  Determinantti on myös Excel taulukkolaskentaohjelmassa : funktio MDETERM"
   ]
  },
  {
   "cell_type": "markdown",
   "id": "111ddbfa",
   "metadata": {},
   "source": [
    "## Epälineaarinen yhtälöpari"
   ]
  },
  {
   "cell_type": "markdown",
   "id": "850775d7",
   "metadata": {},
   "source": [
    "Jos yhtälöparissa esiintyy muuttujien korkeampia potensseja, murto- tai erikoisfunktioita, yhtälöpari ei ole lineaarinen.    \n",
    "\n",
    "> Käytännössä epälineaarisen yhtälöparin voi ratkaista esim. WolframAplhan solvella.\n",
    "\n",
    "> Manluaalisesti helpoimmin ratkaistavia ovat yhtälöparit, joissa toinen yhtälöistä on lineaarinen. Tällöin voidaan käyttää sijoitusmenetelmää seuraavaan tapaan."
   ]
  },
  {
   "cell_type": "markdown",
   "id": "774dc8bd",
   "metadata": {},
   "source": [
    "````{admonition} Ratkaise yhtälöpari\n",
    ":class: note\n",
    "$\\begin{matrix}\n",
    "2 x - y = 1\\\\\n",
    "x^2 + y^2 = 13\n",
    "\\end{matrix}$     \n",
    "```{admonition} Ratkaisu\n",
    ":class: dropdown\n",
    "\n",
    "Ratkaistaan lineaarinen yhtälö y:n suhteen. Saadaan y = 2x -1    \n",
    "Sijoitetaan lausele 2x-1 y:n tilalle yhtälöön 2 ja sievennetään tämä 2. asteen yhtälöksi   \n",
    "$x^2 + (2x-1)^2 = 13$   \n",
    "$x^2 + 4x^2-4x+1 = 13$    \n",
    "$5x^2 - 4x -12 = 0$    \n",
    "juuret: x1 = 2 tai x2 = -6/5    \n",
    "Molemmille x-arvoille lasketaan niitä vastaava y-arvo:    \n",
    "$y1=2\\cdot2-1 = 3$  ja  $y2 = 2\\cdot(-6/5)-1 = -17/5$    \n",
    "\n",
    "Vastaus: Ratkaisuna ovat pisteparit (2,3) ja (-6/5, -17/5)\n",
    "\n",
    "```\n",
    "````"
   ]
  },
  {
   "cell_type": "markdown",
   "id": "20fd437c",
   "metadata": {},
   "source": [
    "Esimerkin yhtälöparin voisi ratkaista myös graafisesti. 1. yhtälö on suoran yhtälö ja 2. yhtälö on ympyrän yhtälö.  Yhtälöparin ratkaisut edustavat suoran ja ympyrän leikkauspisteitä.  WolframAlpha tuottaa ao. kuvan komennolla **plot 2x-y=1, x^2+y^2=13** \n",
    "\n",
    "![ypari](../images/ypari.PNG) "
   ]
  }
 ],
 "metadata": {
  "jupytext": {
   "cell_metadata_filter": "-all",
   "notebook_metadata_filter": "-all",
   "text_representation": {
    "extension": ".md",
    "format_name": "markdown"
   }
  },
  "kernelspec": {
   "display_name": "Python 3 (ipykernel)",
   "language": "python",
   "name": "python3"
  },
  "language_info": {
   "codemirror_mode": {
    "name": "ipython",
    "version": 3
   },
   "file_extension": ".py",
   "mimetype": "text/x-python",
   "name": "python",
   "nbconvert_exporter": "python",
   "pygments_lexer": "ipython3",
   "version": "3.9.7"
  }
 },
 "nbformat": 4,
 "nbformat_minor": 5
}
