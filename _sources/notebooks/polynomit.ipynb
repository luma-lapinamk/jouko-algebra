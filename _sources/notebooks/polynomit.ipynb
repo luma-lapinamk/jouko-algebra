{
 "cells": [
  {
   "cell_type": "markdown",
   "id": "58d5a3e4",
   "metadata": {},
   "source": [
    "# Polynomien peruslaskutoimitukset    "
   ]
  },
  {
   "cell_type": "markdown",
   "id": "1e1c9a40",
   "metadata": {},
   "source": [
    "```{admonition} **Polynomin määritelmä**\n",
    ":class: tip\n",
    "Ao. muotoa olevaa lauseketta kutsutaan *polynomiksi*     \n",
    "\n",
    "$ a_{n}x^{n}+a_{n-1}x^{n-1}+\\cdots +a_{1}x+a_{0}$\n",
    "\n",
    "\n",
    "x = *muuttuja*   \n",
    "\n",
    "n = polynomin *asteluku* (= muuttujan x korkein potenssi polynomissa)  \n",
    "\n",
    "$a_{0}$ on polynomin *vakiotermi*   \n",
    "\n",
    "\n",
    "```"
   ]
  },
  {
   "cell_type": "markdown",
   "id": "01f76da9",
   "metadata": {},
   "source": [
    "## Polynomien laskutoimitukset    \n",
    "\n",
    "### Polynomien yhteenlasku "
   ]
  },
  {
   "cell_type": "markdown",
   "id": "ae771b93",
   "metadata": {},
   "source": [
    "Polynomien yhteenlaskussa sulut voidaan poistaa suoraan, jonka jälkeen yhdistetään samanasteiset termit laskemalla niiden kertoimet yhteen."
   ]
  },
  {
   "cell_type": "markdown",
   "id": "a3a94a53",
   "metadata": {},
   "source": [
    "```{admonition} Esimerkki\n",
    ":class: tip\n",
    "$(2x^3-5x^2+7x-3)+(4x^3+2x+6)$  \n",
    "\n",
    "$=2x^3-5x^2+7x-3+4x^3+2x+6$    \n",
    "\n",
    "$=(2+4)x^3-5x^2+(7+2)x-3+6$   \n",
    "\n",
    "$= 6x^3 - 5x^2 +9x+3$\n",
    "```"
   ]
  },
  {
   "cell_type": "markdown",
   "id": "6d7802d0",
   "metadata": {},
   "source": [
    "````{admonition} Laske polynomien $-2x^2+5x+3$ ja $5x^2-7x-2$ summa.\n",
    ":class: dropdown\n",
    "Vastaus: $3x^2-2x+1$\n",
    "```{admonition} Ratkaisu\n",
    ":class: dropdown\n",
    "Yhteenlaskussa sulkumerkkejä ei tarvita.\n",
    "$-2x^2+5x+3 +5x^2-7x-2$ = $(-2+5)x^2+(5-7)x+3-2 = 3x^2-2x+1$\n",
    "```\n",
    "````"
   ]
  },
  {
   "cell_type": "markdown",
   "id": "ea9cb2cd",
   "metadata": {},
   "source": [
    "### Polynomien vähennyslasku"
   ]
  },
  {
   "cell_type": "markdown",
   "id": "88afe6f1",
   "metadata": {},
   "source": [
    "Polynomien vähennyslasku suoritetaan laskemalla yhteen vähennettävä ja vähentäjän vastapolynomi, joka saadaan vaihtamalla vähentäjäpolynomien termien etumerkit.  Ts. P(x) - Q(x) = P(x) + (-Q(x))"
   ]
  },
  {
   "cell_type": "markdown",
   "id": "3313e9a7",
   "metadata": {},
   "source": [
    "```{admonition} Esimerkki\n",
    ":class: tip\n",
    "$(2x^3-5x^2+7x-3)\\color{red}{-(4x^3+2x+6)}$    \n",
    "\n",
    "$=2x^3-5x^2+7x-3\\color{red}{ -4x^3-2x-6}$   \n",
    "\n",
    "$=(2-4)x^3-5x^2+(7-2)x-3-6$   \n",
    "\n",
    "$= -2x^3 - 5x^2 +5x -9$\n",
    "```"
   ]
  },
  {
   "cell_type": "markdown",
   "id": "43ef5997",
   "metadata": {},
   "source": [
    "````{admonition} Laske polynomien$-2x^2+5x+3$ ja $5x^2-7x-2$ erotus.\n",
    ":class: dropdown\n",
    "Vastaus: $-7x^2+12x+5$\n",
    "```{admonition} Ratkaisu\n",
    ":class: dropdown\n",
    "Sulkuja poistettaessa vähentäjän etumerkit käännetään.\n",
    "$(-2x^2+5x+3) -(5x^2-7x-2)$ = $-2x^2+5x+3-5x^2+7x+2 = -7x^2+12x+5$\n",
    "```\n",
    "````"
   ]
  },
  {
   "cell_type": "markdown",
   "id": "faaaac48",
   "metadata": {},
   "source": [
    "###  Polynomin kertominen vakiolla"
   ]
  },
  {
   "cell_type": "markdown",
   "id": "e46766b1",
   "metadata": {},
   "source": [
    "Polynomi kerrotaan vakiolla siten, että polynomin jokainen termi kerrotaan ko. vakiolla"
   ]
  },
  {
   "cell_type": "markdown",
   "id": "c5b6d280",
   "metadata": {},
   "source": [
    "```{admonition} Esimerkki\n",
    ":class: tip\n",
    "$ \\color{red}{3}\\color{black}{\\cdot(2x+5)} = \\color{red}{3}\\color{black}{\\cdot2x}+\\color{red}{3}\\color{black}{\\cdot5} = 6 x +15$  \n",
    "```"
   ]
  },
  {
   "cell_type": "markdown",
   "id": "24840aa8",
   "metadata": {},
   "source": [
    "````{admonition} Sievennä poistamalla sulut lausekkeesta $ -5\\cdot(3x^2-2)$\n",
    ":class: dropdown\n",
    "Vastaus: $-15x^2+10$\n",
    "```{admonition} Ratkaisu\n",
    ":class: dropdown\n",
    "$  -5\\cdot(3x^2-2) = -5\\cdot3x^2-5(-2) = -15x^2+10$\n",
    "```\n",
    "````"
   ]
  },
  {
   "cell_type": "markdown",
   "id": "8a9fb3b7",
   "metadata": {},
   "source": [
    "### Polynomin jakaminen vakiolla"
   ]
  },
  {
   "cell_type": "markdown",
   "id": "150218ae",
   "metadata": {},
   "source": [
    "Polynomi kerrotaan vakiolla siten, että polynomin jokainen termi jaetaan ko. vakiolla"
   ]
  },
  {
   "cell_type": "markdown",
   "id": "7f3ad151",
   "metadata": {},
   "source": [
    "```{admonition} Esimerkki\n",
    ":class: tip\n",
    "$ \\frac {5 x-2} {\\color{red}3} = \\frac {5} {\\color{red}3} x -\\frac {2} {\\color{red}3}$  \n",
    "```"
   ]
  },
  {
   "cell_type": "markdown",
   "id": "5a77b10e",
   "metadata": {},
   "source": [
    "### Polynomien kertolasku"
   ]
  },
  {
   "cell_type": "markdown",
   "id": "616a1d95",
   "metadata": {},
   "source": [
    "Kertolasku P(x)Q(x) suoritetaan kertomalla jokainen P(x):n termi jokaiselle Q(x):n termillä.(\"ristiin kertominen\")   \n",
    "\n",
    "Jos polynomissa P(x) on n termiä ja polynomissa Q(x) m termiä, syntyy kertolaskussa mxn termiä, joista samanasteiset termit voidaan yhdistää.   "
   ]
  },
  {
   "cell_type": "markdown",
   "id": "8cfdf3aa",
   "metadata": {},
   "source": [
    "```{admonition} Esimerkki\n",
    ":class: tip\n",
    "$ \\color{red}{(2x+3)}\\color{black}{(3x^2-5x+2)}$     \n",
    "\n",
    "= $\\color{red}{2x}\\color{black}{\\cdot3x^2}+\\color{red}{2x}\\color{black}{\\cdot(-5x)}+\\color{red}{2x}\\color{black}{\\cdot2}+\\color{red}{3}\\color{black}{\\cdot3x^2}+\\color{red}{3}\\color{black}{\\cdot(-5x)}+\\color{red}{3}\\color{black}{\\cdot2}$   \n",
    "\n",
    "= $6x^3-10x^2+4x+9x^2-15x+6$   \n",
    "\n",
    "= $6x^3+(-10+9)x^2+(4-15)x+6$   \n",
    "\n",
    "= $6x^3 - x^2 -11x + 6$\n",
    "```"
   ]
  },
  {
   "cell_type": "markdown",
   "id": "6ed9b898",
   "metadata": {},
   "source": [
    "````{admonition} Sievennä poistamalla sulut lausekkeesta $ (5x-2)(3-7x^2)$\n",
    ":class: dropdown\n",
    "Vastaus: $-35x^3+14x^2+15x-6$\n",
    "```{admonition} Ratkaisu\n",
    ":class: dropdown\n",
    "$ (5x-2)(3-7x^2)=5x\\cdot3+5x(-7x^2)-2\\cdot3-2(-7x^2)$   \n",
    "= $ 15x-35x^3-6+14x^2 = -35x^3+14x^2+15x-6$\n",
    "```\n",
    "````"
   ]
  },
  {
   "cell_type": "markdown",
   "id": "507db0c1",
   "metadata": {},
   "source": [
    "### Polynomien potenssi"
   ]
  },
  {
   "cell_type": "markdown",
   "id": "cab88cf7",
   "metadata": {},
   "source": [
    "Potenssi $P(x)^n$ voidaan laskea kertolaskuna $\\overset{n\\hspace{2mm} kpl}{P(x)\\cdots P(x)}$. Binomin neliö voidaan laskea myös kaavalla    \n",
    "$(a\\pm b)^{^2}=a^{2}\\pm 2ab+b^{2}$"
   ]
  },
  {
   "cell_type": "markdown",
   "id": "25d6aaa0",
   "metadata": {},
   "source": [
    "```{admonition} Esimerkki\n",
    ":class: tip\n",
    "Tapa1: $(2x-3)^{2}=(2x-3) (2x-3)=2x\\cdot2x+2x\\cdot(-3)-3 \\cdot2x-3 (-3)=4x^{2}-12x+9$\n",
    "\n",
    "Tapa2: $(2x-3)^{2}=(2x)^2-2\\cdot 2x\\cdot 3+3^{2}=4x^{2}-12x+9$\n",
    "```"
   ]
  },
  {
   "cell_type": "markdown",
   "id": "b64d6a1d",
   "metadata": {},
   "source": [
    "````{admonition} Sievennä poistamalla sulut $ (5x-2)^2$\n",
    ":class: dropdown\n",
    "Vastaus: $25x^2-20x+4$\n",
    "```{admonition} Ratkaisu\n",
    ":class: dropdown\n",
    "Tapa1: $ (5x-2)^2 = (5x-2)(5x-2) = 5x\\cdot5x+5x(-2)-2(5x)-2(-2)=25x^2-20x+4$   \n",
    "  \n",
    "Tapa2: $ (5x-2)^2 = (5x)^2-2(5x)2+2^{2} = 25x^2-20x+4 $    $\\hspace{10mm}\\color{red}{kaava: (a\\pm b)^{^2}=a^{2}\\pm 2ab+b^{2}}$\n",
    "```\n",
    "````"
   ]
  },
  {
   "cell_type": "markdown",
   "id": "93394634",
   "metadata": {},
   "source": [
    "```{admonition} WolframAlpha:n expand\n",
    ":class: tip\n",
    "WolframAlpha.com -laskimessa polynomien summa, tulo ja potenssi lasketaan komennolla *expand*   \n",
    "esim. expand $x (3x-2)^2$    \n",
    "\n",
    "```"
   ]
  },
  {
   "cell_type": "markdown",
   "id": "032a6323",
   "metadata": {},
   "source": [
    "### Polynomien jakolasku"
   ]
  },
  {
   "cell_type": "markdown",
   "id": "1ac4f289",
   "metadata": {},
   "source": [
    "Polynomin jakaminen toisella polynomilla suoritetaan **jakokulmassa**.  \n",
    "\n",
    "Alla olevassa kuvassa   on suoritettu jakokulmaa käyttäen jakolasku\n",
    "$\\frac {x^4 -3x^3-x^2-1}{x^2+1} $     \n",
    "\n",
    "Osamääräksi on saatu $x^2 -3x -2$  ja jakojäännökseksi $3x+1$ (katso ao.video)"
   ]
  },
  {
   "cell_type": "markdown",
   "id": "a759e92c",
   "metadata": {},
   "source": [
    "<video width=\"600\" height=\"450\" controls=\"True\">\n",
    "    <source src=\"../_static/images/jako.mp4\" type=\"video/mp4\">\n",
    "</video>"
   ]
  },
  {
   "cell_type": "markdown",
   "id": "2ca860b0",
   "metadata": {},
   "source": [
    "## Polynomin jakaminen tekijöihin (faktorointi)"
   ]
  },
  {
   "cell_type": "markdown",
   "id": "10e6e0df",
   "metadata": {},
   "source": [
    "Polynomin kertolaskulle käänteinen operaatio on **polynomin jakakaminen tekijöihin**.   \n",
    "Siinä polynomi pyritään esittämään alempiasteisten polynomien tulona.    \n",
    "\n",
    "> Keinoja polynomin tekijöihin jakamiseksi:   \n",
    "> \n",
    "> 1. Yhteisen tekijän löytäminen\n",
    "> 2. Neliöiden erotuksen kaava $\\color{red}{a^2-b^2 = (a-b)(a+b)}$\n",
    "> 3. Binomin neliön kaavat $\\color{red}{(a\\pm b)^2 = a^2\\pm 2ab+b^2}$\n",
    "> 4. Polynomin jakaminen tekijöihin juurten avulla    \n",
    "```{admonition} Sääntö\n",
    ":class: tip\n",
    "Jos $x_0$ on polynomin P(x) juuri, niin $x-x_0$ on polynomin tekijä.\n",
    "```"
   ]
  },
  {
   "cell_type": "markdown",
   "id": "e99a20d7",
   "metadata": {},
   "source": [
    "````{admonition} Esim1. Esitä tulona $ 6ax^2 - 2x $\n",
    ":class: dropdown\n",
    "Vastaus: $2x(3ax-1) $\n",
    "```{admonition} Ratkaisu\n",
    ":class: dropdown\n",
    "Termeillä on yhteisinä tekijöinä 2x, joten lauseke voidaan esittää tulomuodossa  \n",
    "\n",
    "$ 6ax^2 - 2x = 2x(3ax-1) $  \n",
    "\n",
    "(Toinen tekijä 3ax-1 saadaan jakamalla alkuperäisen polynomin molemmat tekijät 2x:llä) \n",
    "```\n",
    "````"
   ]
  },
  {
   "cell_type": "markdown",
   "id": "384ea08d",
   "metadata": {},
   "source": [
    "````{admonition} Esim2. Esitä tulona $ 25 - a^2 $\n",
    ":class: dropdown\n",
    "Vastaus: $(5-a)(5+a)$ \n",
    "```{admonition} Ratkaisu\n",
    ":class: dropdown\n",
    "Lauseke on lukujen 5 ja a  neliöiden erotus, joten voidaan kirjoittaa  \n",
    "\n",
    "$ 25 - a^2 = (5-a)(5+a)$ \n",
    "\n",
    "```\n",
    "````"
   ]
  },
  {
   "cell_type": "markdown",
   "id": "f66a77c0",
   "metadata": {},
   "source": [
    "````{admonition} Esim3. Esitä tulona $ x^2 + 4 x + 4 $\n",
    ":class: dropdown\n",
    "Vastaus: $(x+2)^2$\n",
    "```{admonition} Ratkaisu\n",
    ":class: dropdown\n",
    "Tähän soveltuu binomin neliön kaava, koska termeinä ovat lukujen x ja 2 neliöt, sekä niiden kaksinkertainen tulo 2*x*2.  \n",
    "\n",
    "$ x^2 + 4 x + 4 = x^2 + 2\\cdot2x + 2^2 = (x+2)^2$\n",
    "\n",
    "```\n",
    "````"
   ]
  },
  {
   "cell_type": "markdown",
   "id": "f2a13589",
   "metadata": {},
   "source": [
    "````{admonition} Esim3. Esitä tulona $ 2x^2 + 3 x - 5$\n",
    ":class: dropdown\n",
    "Vastaus: $(x-1)(2x+5)$ \n",
    "```{admonition} Ratkaisu\n",
    ":class: dropdown\n",
    "Huomataan, että x=1 on polynomin juuri, koska $2\\cdot1^2 + 3\\cdot1 - 5 = 2+3-5=0$   \n",
    "\n",
    "Siten $ 2x^2 + 3 x - 5 = (x-1)(ax+b)$ , missä ax+b on toinen tekijöistä.  \n",
    "\n",
    "Suorittamalla oikean puolen kertolasku todetaan, että on oltava a=2 ja -b=-5 => b=5   \n",
    "\n",
    "Siten $ 2x^2 + 3 x - 5 = (x-1)(2x+5)$ \n",
    "\n",
    "```\n",
    "````"
   ]
  },
  {
   "cell_type": "markdown",
   "id": "8e494c4c",
   "metadata": {},
   "source": [
    "```{admonition} WolframAlpha:n factor\n",
    ":class: tip\n",
    "WolframAlpha.com online laskimessa polynomien faktorointikomento on *factor*   \n",
    "esim. factor $2x^3+3x^2-5x$ \n",
    "```"
   ]
  }
 ],
 "metadata": {
  "jupytext": {
   "cell_metadata_filter": "-all",
   "notebook_metadata_filter": "-all",
   "text_representation": {
    "extension": ".md",
    "format_name": "markdown"
   }
  },
  "kernelspec": {
   "display_name": "Python 3 (ipykernel)",
   "language": "python",
   "name": "python3"
  },
  "language_info": {
   "codemirror_mode": {
    "name": "ipython",
    "version": 3
   },
   "file_extension": ".py",
   "mimetype": "text/x-python",
   "name": "python",
   "nbconvert_exporter": "python",
   "pygments_lexer": "ipython3",
   "version": "3.9.12"
  }
 },
 "nbformat": 4,
 "nbformat_minor": 5
}
