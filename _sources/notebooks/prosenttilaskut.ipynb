{
 "cells": [
  {
   "cell_type": "markdown",
   "id": "64e7986e",
   "metadata": {},
   "source": [
    "# Prosenttilaskut"
   ]
  },
  {
   "cell_type": "markdown",
   "id": "01f76da9",
   "metadata": {},
   "source": [
    "## Prosentin määritelmä"
   ]
  },
  {
   "cell_type": "markdown",
   "id": "a3a94a53",
   "metadata": {},
   "source": [
    "```{admonition} Prosentin määritelmä\n",
    ":class: tip\n",
    "Prosentti tarkoittaa sadasosaa. Se voidaan esittää myös murtolukuna ja desimaalilukuna.   \n",
    "\n",
    "1% = $\\frac {1}{100} = 0.01$ \n",
    "```"
   ]
  },
  {
   "cell_type": "markdown",
   "id": "e1bcfa25",
   "metadata": {},
   "source": [
    "### Prosenttiosuuden laskeminen:  Montako prosenttia a on b:stä?"
   ]
  },
  {
   "cell_type": "markdown",
   "id": "df697177",
   "metadata": {},
   "source": [
    "Lukua a sanotaan usein *vertailuarvoksi* ja lukua b *perusarvoksi.*      \n",
    "\n",
    "Ratkaisu:  $p =\\frac {a}{b}\\cdot 100\\%$ "
   ]
  },
  {
   "cell_type": "markdown",
   "id": "43ef5997",
   "metadata": {},
   "source": [
    "```{admonition} Poliisi puhallutti 240 autoilijaa, joilla 7:llä oli alkoholia veressä. Monellako prosentilla puhallutetuista oli alkoholia veressä? \n",
    ":class: dropdown\n",
    "$p =\\frac {7}{240}\\cdot 100\\% = 2.9\\%$   \n",
    "\n",
    "Vastaus: 2.9 prosentilla oli alkoholia veressä\n",
    "```"
   ]
  },
  {
   "cell_type": "markdown",
   "id": "575fce58",
   "metadata": {},
   "source": [
    "### Paljonko on p prosenttia a:sta?  "
   ]
  },
  {
   "cell_type": "markdown",
   "id": "76634ad8",
   "metadata": {},
   "source": [
    "Ratkaisu:  $\\frac {p}{100}\\cdot a$ "
   ]
  },
  {
   "cell_type": "markdown",
   "id": "d25d84b7",
   "metadata": {},
   "source": [
    "```{admonition} Puseron hinta oli 39.80.  Myyjä antoi siitä 35% alennuksen. Mikä oli alennettu hinta?\n",
    ":class: dropdown\n",
    "Alennus oli $\\frac {35}{100}\\cdot 39.80 = 13.93$      \n",
    "Alennettu hinta on siten 39.80 -13.93 = 25.87.\n",
    "```"
   ]
  },
  {
   "cell_type": "markdown",
   "id": "f1af4eaa",
   "metadata": {},
   "source": [
    "### Montako prosenttia a on suurempi kuin b? "
   ]
  },
  {
   "cell_type": "markdown",
   "id": "3ffdd9f4",
   "metadata": {},
   "source": [
    "Tässä vertailuarvona on lukujen erotus ja perusarvona luku b. Ratkaisu: $\\frac {a-b}{b}\\cdot100\\%$"
   ]
  },
  {
   "cell_type": "markdown",
   "id": "33a8867f",
   "metadata": {},
   "source": [
    "```{admonition} Ruotsalaisten keskipalkka on 3680 Eur/kk ja suomalaisten 3570 Eur/kk. Kuinka monta prosenttia ruotsalaisten keskipalkka on suurempi kuin suomalaisten?\n",
    ":class: dropdown\n",
    "$\\frac {3680-3570}{3570}\\cdot100\\% = 3.1\\%$   \n",
    "\n",
    "Vastaus:  3.1%\n",
    "```"
   ]
  },
  {
   "cell_type": "markdown",
   "id": "ebca189b",
   "metadata": {},
   "source": [
    "### Montako prosenttia a on pienempi kuin b?"
   ]
  },
  {
   "cell_type": "markdown",
   "id": "9eec4c2f",
   "metadata": {},
   "source": [
    "Vertailuarvona on lukujen erotus ja perusarvona luku b. Ratkaisu: $\\frac {b-a}{b}\\cdot100\\%$"
   ]
  },
  {
   "cell_type": "markdown",
   "id": "41b56873",
   "metadata": {},
   "source": [
    "```{admonition} Prismassa Valion arkijuusto maksaa 5.95, kun sen hinta K-marketissa on 6.35. Kuinka monta prosenttia vähemmän juusto maksaa Prismassa verrattuna K-marketiin?\n",
    ":class: dropdown\n",
    "$\\frac {6.35-5.95}{6.35}\\cdot100\\% = 6.3\\%$    \n",
    "\n",
    "Vastaus:  6.3%\n",
    "```"
   ]
  },
  {
   "cell_type": "markdown",
   "id": "13210ea9",
   "metadata": {},
   "source": [
    "### Perusarvon laskeminen"
   ]
  },
  {
   "cell_type": "markdown",
   "id": "626740a6",
   "metadata": {},
   "source": [
    "Yhtälöstä $\\frac {a}{b}=\\frac {p}{100}$ ratkaistuna     \n",
    "\n",
    "perusarvo $b=\\frac {a}{p/100}=\\frac{a}{p}\\cdot 100$"
   ]
  },
  {
   "cell_type": "markdown",
   "id": "6735bba2",
   "metadata": {},
   "source": [
    "```{admonition} Maijalle kevään 2.5% palkankorotus toi lisää palkkaa 65 Euroa kk:ssa. Mikä oli Maijan kuukausipalkka ennen korotusta?\n",
    ":class: dropdown\n",
    "$\\frac {45}{x} = \\frac{2.5}{100} => x = \\frac{45}{2.5}\\cdot100 = 1800 $   \n",
    "\n",
    "Vastaus:  1800 Euroa\n",
    "```"
   ]
  },
  {
   "cell_type": "markdown",
   "id": "ebfa3043",
   "metadata": {},
   "source": [
    "## Perättäiset prosenttikorotukset, lisäyskerroin"
   ]
  },
  {
   "cell_type": "markdown",
   "id": "ed391b1f",
   "metadata": {},
   "source": [
    "Esim. Jos 2500 euron palkkaa korotetaan 3.5 prosenttia, on kätevintä laskea uusi palkka käyttämällä ns. **lisäyskerrointa**  1.035.   \n",
    "\n",
    "Uusi palkka on $1.035\\cdot2500$ = 2587.50. "
   ]
  },
  {
   "cell_type": "markdown",
   "id": "05ce1e9b",
   "metadata": {},
   "source": [
    "```{admonition} Lisäyskerroin\n",
    ":class: tip\n",
    "Lisäyskerroin eli korkotekijä   \n",
    "\n",
    "r = $1 + \\frac {p}{100}$ \n",
    "```"
   ]
  },
  {
   "cell_type": "markdown",
   "id": "1a316e0b",
   "metadata": {},
   "source": [
    "```{admonition} Maijan palkkaa korotettiin sopimuskaudella kolme kertaa. Korotukset olivat 3.0%, 2.5% ja 1.5%. Kuinka paljon Maijan palkka nousi yhteensä sopimuskaudella?\n",
    ":class: dropdown\n",
    "Koko sopimuskauden lisäyskerroin on korotuksia vastaavien lisäyskertoimien tulo. \n",
    "$1.03\\cdot1.025\\cdot1.015 = 1.0716$  \n",
    "Tämä vastaan n. 7.2% palkankorotusta   \n",
    "\n",
    "Vastaus:  7.2%\n",
    "```"
   ]
  },
  {
   "cell_type": "markdown",
   "id": "2cc07468",
   "metadata": {},
   "source": [
    "```{admonition} Kiinteistön arvo v.2010 oli 125000 euroa. Mikä oli kiinteistön arvo v.2018, jos oletetaan että arvo nousi tuolla aikavälillä 2.5% vuodessa? \n",
    ":class: dropdown\n",
    "Vuotuinen lisäyskerroin on 1.025. Arvo 8 vuotta vertailuvuoden 2010 jälkeen on    \n",
    "\n",
    "$125000\\cdot1.025^8 = 152300$   \n",
    "\n",
    "Vastaus:  152300 euroa\n",
    "```"
   ]
  }
 ],
 "metadata": {
  "jupytext": {
   "cell_metadata_filter": "-all",
   "notebook_metadata_filter": "-all",
   "text_representation": {
    "extension": ".md",
    "format_name": "markdown"
   }
  },
  "kernelspec": {
   "display_name": "Python 3 (ipykernel)",
   "language": "python",
   "name": "python3"
  },
  "language_info": {
   "codemirror_mode": {
    "name": "ipython",
    "version": 3
   },
   "file_extension": ".py",
   "mimetype": "text/x-python",
   "name": "python",
   "nbconvert_exporter": "python",
   "pygments_lexer": "ipython3",
   "version": "3.9.7"
  }
 },
 "nbformat": 4,
 "nbformat_minor": 5
}
