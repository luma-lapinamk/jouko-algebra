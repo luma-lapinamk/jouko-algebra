{
 "cells": [
  {
   "cell_type": "markdown",
   "id": "14e90b83",
   "metadata": {},
   "source": [
    "# Murtoluvut ja murtolausekkeet "
   ]
  },
  {
   "cell_type": "markdown",
   "id": "46cb1822",
   "metadata": {},
   "source": [
    "```{admonition} Murtoluvut ja murtolausekkeet\n",
    ":class: tip\n",
    "**Murtoluvut** ovat muotoa $\\frac {m}{n}$ olevia lukuja, missä m ja n ovat kokonaislukuja.\n",
    "Lukua m sanoitaan *osoittajaksi* ja lukua n *nimittäjäksi*  \n",
    "    \n",
    "**Murtolausekkeella** tarkoitetaan tässä muotoa $\\frac {P}{Q}$ olevia lauskkeita,    \n",
    "missä osoittaja P ja nimittäjä Q voivat sisältää lukujen lisäksi parametrejä ja muuttujia.\n",
    "\n",
    "```"
   ]
  },
  {
   "cell_type": "markdown",
   "id": "01f76da9",
   "metadata": {},
   "source": [
    "## Murtolukujen ja -lausekkeiden laskusääntöjä  "
   ]
  },
  {
   "cell_type": "markdown",
   "id": "a3a94a53",
   "metadata": {},
   "source": [
    "```{admonition} Murtolukujen ja lausekkeiden kertolasku\n",
    ":class: tip\n",
    "Kertolaskussa osoittajat ja nimittäjät kerrotaan keskenään\n",
    "$\\frac{a}{b}\\cdot \\frac{c}{d}=\\frac{a\\cdot c}{b\\cdot d}$\n",
    "```"
   ]
  },
  {
   "cell_type": "markdown",
   "id": "6d7802d0",
   "metadata": {},
   "source": [
    "````{admonition} Esim. Laske $\\frac{2}{7}\\cdot \\frac{3}{5}$\n",
    ":class: dropdown\n",
    "Vastaus $\\frac {6}{35}$\n",
    "```{admonition} Ratkaisu\n",
    ":class: dropdown\n",
    "$ \\frac{2}{7}\\cdot \\frac{3}{5}=\\frac{2\\cdot 3}{5\\cdot 7}=\\frac {6}{35}$\n",
    "```\n",
    "````"
   ]
  },
  {
   "cell_type": "markdown",
   "id": "0eea35ed",
   "metadata": {},
   "source": [
    "````{admonition} Esim. Laske $\\frac{2b}{a}\\cdot \\frac{3a^2}{14x}$\n",
    ":class: dropdown\n",
    "Vastaus $\\frac {3ab}{7x}$\n",
    "```{admonition} Ratkaisu:  \n",
    ":class: dropdown\n",
    "Osoittajat ja nimittäjät yhdistetään yhdeksi murtolausekkeeksi   \n",
    "$ \\frac{2b}{a}\\cdot \\frac{3a^2}{14x}=\\frac{6a^2b}{14ax}=\\frac {3ab}{7x}$\n",
    "```\n",
    "````"
   ]
  },
  {
   "cell_type": "markdown",
   "id": "3313e9a7",
   "metadata": {},
   "source": [
    "```{admonition} Murtolukujen ja -lausekkeiden jakolasku\n",
    ":class: tip\n",
    "Jakolaskussa osoittaja kerrotaan nimittäjän käänteisluvulla\n",
    "$\\frac{\\frac{a}{b}}{\\frac{c}{d}}=\\frac{a}{b}\\cdot \\frac{d}{c}$ \n",
    "```"
   ]
  },
  {
   "cell_type": "markdown",
   "id": "43ef5997",
   "metadata": {},
   "source": [
    "````{admonition} Esim. Laske $ \\frac{\\frac{2}{7}}{\\frac{3}{5}}$\n",
    ":class: dropdown\n",
    "Vastaus $\\frac{10}{21}$\n",
    "```{admonition} Ratkaisu\n",
    ":class: dropdown\n",
    "$ \\frac{\\frac{2}{7}}{\\frac{3}{5}}=\\frac{2}{7}\\cdot \\frac{5}{3}=\\frac{10}{21}$\n",
    "```\n",
    "````"
   ]
  },
  {
   "cell_type": "markdown",
   "id": "385ccd38",
   "metadata": {},
   "source": [
    "````{admonition} Esim. Laske $ \\frac{2h}{t}:\\frac{2\\pi rh}{5t^2}$\n",
    ":class: dropdown\n",
    "Vastaus: $\\frac{5t}{\\pi r}$\n",
    "```{admonition} Ratkaisu:\n",
    ":class: dropdown\n",
    "Jakolasku suoritetaan kertomalla jakajan käänteisluvulla   \n",
    "\n",
    "$ \\frac{2h}{t}\\cdot \\frac{5t^2}{2\\pi r h}=\\frac{5t}{\\pi r}$\n",
    "```\n",
    "````"
   ]
  },
  {
   "cell_type": "markdown",
   "id": "575fce58",
   "metadata": {},
   "source": [
    "### Pienin yhteinen jaettava pyj(m,n)"
   ]
  },
  {
   "cell_type": "markdown",
   "id": "2912d1ac",
   "metadata": {},
   "source": [
    "> Murtolukujen yhteen- ja vähennyslaskussa pitää murtoluvut ensin \"laventaa samannimisiksi\",   \n",
    "> jolloin niille tulee yhteiseksi nimittäjäksi murtolukujen nimittäjien *pienin yhteinen jaettava*\n",
    "> \n",
    "> Lukujen m ja n pienin yhteinen jaettava **pyj(m,n)** on pienin kokonaisluku, joka on jaollinen \n",
    "> sekä luvulla m, että n"
   ]
  },
  {
   "cell_type": "markdown",
   "id": "71d94838",
   "metadata": {},
   "source": [
    "```{admonition} Algoritmi pienimmän yhteisen jaettavan **pyj(m,n)** laskemiselle \n",
    ":class: tip\n",
    "1. Muodosta lukujen m ja n *alkulukuhajotelmat* (=esitä m ja n alkulukujen potenssien tulona)\n",
    "2. Valitse pyj:n kutakin lukujen m ja n alkutekijää suurin potenssi, mikä esiintyy lukujen\n",
    "m ja n alkulukuhajotelmissa\n",
    "    ```{admonition} Esim.  Laske pyj(42,12)\n",
    "    :class: tip\n",
    "    1. Alkulukuhajotelmat:  $ 42 = 7\\cdot3\\cdot2 \\hspace{5mm}    12=2^2\\cdot3 $\n",
    "    2. pyj(42,12) = $7\\cdot3\\cdot2^2$ = 84   *(tekijöitä 7,3 ja 2 otetaan maksimimäärät)*\n",
    "    ```\n",
    "```"
   ]
  },
  {
   "cell_type": "markdown",
   "id": "d25d84b7",
   "metadata": {},
   "source": [
    "```{admonition} Laske pyj(20,14)\n",
    ":class: dropdown\n",
    "1. Alkulukuhajotelmat:  $ 20 = 5\\cdot2^2   \\hspace{5mm}   14=2\\cdot7 $\n",
    "2. pyj(20,14) = $5\\cdot7\\cdot2^2$ = 140  *(tekijöitä 7,5 ja 2 otetaan maksimimäärät)*\n",
    "```"
   ]
  },
  {
   "cell_type": "markdown",
   "id": "faaaac48",
   "metadata": {},
   "source": [
    "###  Murtolukujen supistettu muoto"
   ]
  },
  {
   "cell_type": "markdown",
   "id": "efd43cf9",
   "metadata": {},
   "source": [
    "Esimerkiksi $\\frac {20}{12}$ , $\\frac {10}{6}$ ja $\\frac {5}{3}$ ovat yksi ja sama murtoluku.   \n",
    "Viimeinen muoto $\\frac {5}{3}$ on luvun supistettu muoto, jossa osoittalla ja nimittäjällä  \n",
    "ei ole enää yhteisiä tekijöitä.  "
   ]
  },
  {
   "cell_type": "markdown",
   "id": "60e9c45b",
   "metadata": {},
   "source": [
    "###  Supistaminen"
   ]
  },
  {
   "cell_type": "markdown",
   "id": "bda1a2d7",
   "metadata": {},
   "source": [
    "Supistamisessa osoittaja ja nimittäjä jaetaan tekijöihin, ja supistetaan yhteiset tekijät pois.   \n",
    "Esim.   $\\frac {20}{12}$  = $\\frac {4 \\cdot 5}{4 \\cdot 3}$ = $\\frac {5}{3}$"
   ]
  },
  {
   "cell_type": "markdown",
   "id": "c5b6d280",
   "metadata": {},
   "source": [
    "```{admonition} Supistaminen\n",
    ":class: tip\n",
    "$\\frac {c \\cdot a}{c \\cdot b}$ = $\\frac {a}{b}$  \n",
    "```"
   ]
  },
  {
   "cell_type": "markdown",
   "id": "24840aa8",
   "metadata": {},
   "source": [
    "```{admonition} Esim. Supista $ \\frac {72} {30} $\n",
    ":class: dropdown\n",
    "$ \\frac {72} {30} = \\frac {3^2*2^3} {3*2*5} = \\frac {12} {5} $\n",
    "```"
   ]
  },
  {
   "cell_type": "markdown",
   "id": "63efc6ee",
   "metadata": {},
   "source": [
    "```{admonition} Esim. Supista $ \\frac {2\\pi r+3r} {5r} $\n",
    ":class: dropdown\n",
    "Osoittajassa voidaan r ottaa yhteiseksi tekijäksi    \n",
    "\n",
    "$ \\frac {(2\\pi+3)r} {5r} = \\frac {2\\pi + 3} {5} $\n",
    "```"
   ]
  },
  {
   "cell_type": "markdown",
   "id": "0e4e5572",
   "metadata": {},
   "source": [
    "```{admonition} Esim. Supista $ \\frac {x+3} {x^2-9} $\n",
    ":class: dropdown\n",
    "Nimittäjä esitetään tulomuodossa käyttäen kaavaa $a^2-b^2=(a-b)(a+b)$     \n",
    "\n",
    "$ \\frac {x+3} {(x-3)(x+3)} = \\frac {1} {x-3} $\n",
    "```"
   ]
  },
  {
   "cell_type": "markdown",
   "id": "a39b735c",
   "metadata": {},
   "source": [
    "```{warning} \n",
    "Summasta ei voi supistaa!\n",
    "$ \\frac {x + 5} {x} \\neq \\frac {1+5} {1} $\n",
    "\n",
    "```"
   ]
  },
  {
   "cell_type": "markdown",
   "id": "5a77b10e",
   "metadata": {},
   "source": [
    "### Murtolukujen yhteen- ja vähennyslasku"
   ]
  },
  {
   "cell_type": "markdown",
   "id": "8cfdf3aa",
   "metadata": {},
   "source": [
    "```{admonition}   Murtojen yhteen- ja vähennyslasku\n",
    ":class: tip\n",
    "1. Lavenna murtoluvut samannimisiksi   \n",
    "    a. laske murtolukujen nimittäjien pienin yhteinen jaettava pyj      \n",
    "    b. käytä laventajina lukuja *pyj/nimittäjä1*, *pyj/nimittäjä2*, ...    \n",
    "2. Suorita yhteen- ja vähennyslaskut osoittajien välillä     \n",
    "3. Muunna tulos supistettuun muotoon, mikäli tarpeen    \n",
    "```"
   ]
  },
  {
   "cell_type": "markdown",
   "id": "2b726e8c",
   "metadata": {},
   "source": [
    "````{admonition} Esim. Sievennä $ \\frac {1} {3} + \\frac {3} {2} $\n",
    ":class: dropdown\n",
    "Vastaus: $\\frac {11} {6}$\n",
    "```{admonition} Ratkaisu:\n",
    ":class: dropdown\n",
    "Lavennetaan luvut siten, että uudeksi nimittäjäksi tulee pyj(2,3) eli 6   \n",
    "\n",
    "$ \\frac {2} {6} + \\frac {9} {6} = \\frac {9+2} {6} = \\frac {11} {6}  $\n",
    "```\n",
    "````"
   ]
  },
  {
   "cell_type": "markdown",
   "id": "cc463abc",
   "metadata": {},
   "source": [
    "````{admonition} Esim. Sievennä $ \\frac {1} {a} - \\frac {1} {a-1} $\n",
    ":class: dropdown\n",
    "Vastaus: $-\\frac {1} {a(a-1)}  $\n",
    "```{admonition} Ratkaisu:\n",
    ":class: dropdown\n",
    "\n",
    "Lavennetaan luvut siten, että uudeksi nimittäjäksi tulee pyj(a,a-1) eli a(a-1)   \n",
    "\n",
    "$ \\frac {a-1} {a(a-1)} - \\frac {a} {a(a-1)} = \\frac {a-1+a} {a(a-1)} = -\\frac {1} {a(a-1)}  $\n",
    "```\n",
    "````"
   ]
  },
  {
   "cell_type": "markdown",
   "id": "b74e6eeb",
   "metadata": {},
   "source": [
    "````{admonition} Esim. Yhdistä yhdeksi murtolausekkeeksi $ 1 - \\frac {1} {x+2} $\n",
    ":class: dropdown\n",
    "Vastaus: $\\frac {x+1} {x+2}  $\n",
    "```{admonition} Ratkaisu:\n",
    ":class: dropdown\n",
    "Lavennetaan luvut siten, että uudeksi nimittäjäksi tulee pyj(1,x+2) eli x+2   \n",
    "\n",
    "$ \\frac {x+2} {x+2} - \\frac {1} {x+2} = \\frac {x+2-1} {x+2} = \\frac {x+1} {x+2}  $\n",
    "```\n",
    "````"
   ]
  },
  {
   "cell_type": "markdown",
   "id": "8a9fb3b7",
   "metadata": {},
   "source": [
    "### Sekamurtoluvut"
   ]
  },
  {
   "cell_type": "markdown",
   "id": "7f3ad151",
   "metadata": {},
   "source": [
    "```{admonition} Sekamurtoluvut\n",
    ":class: tip\n",
    "Sekamurtoluvut ovat lukuja, joissa on kokonaisosa ja murto-osa.\n",
    "esim. $2\\frac {1}{2}$ ja $4 \\frac {2}{3}$ ovat sekamurtolukuja.\n",
    "\n",
    "Ennen yhteen-, vähennys- , kerto- ja jakolaskua sekamurtoluku on muunnettava \n",
    "perusmuotoiseksi murtoluvuksi muotoon $\\frac {p}{q}$\n",
    "```"
   ]
  },
  {
   "cell_type": "markdown",
   "id": "7cf83b48",
   "metadata": {},
   "source": [
    "```{admonition} Sekamurtoluvun muuntaminen perusmuotoiseksi murtoluvuksi.\n",
    ":class: tip\n",
    "Lavennetaan kokonaisosa niin, että se saa saman nimittäjän kuin murto-osa\n",
    "\n",
    "esim. $2\\frac {1}{2} = \\frac {4}{2} + \\frac {1}{2} = \\frac {4+1}{2} = \\frac {5}{2}$ \n",
    "```"
   ]
  },
  {
   "cell_type": "markdown",
   "id": "6ed9b898",
   "metadata": {},
   "source": [
    "````{admonition} Esim. Laske $2\\frac {1}{2} + 4 \\frac {2}{3}$\n",
    ":class: dropdown\n",
    "Vastaus: $\\frac {43}{6}$\n",
    "```{admonition} Ratkaisu:\n",
    ":class: dropdown\n",
    "Muunnetaan sekamurtoluvut perusmuotoisiksi murtoluvuiksi:\n",
    "$2\\frac {1}{2}=\\frac {5}{2}$   ja $4\\frac {2}{3}=\\frac {12}{3}+\\frac {2}{3}= \\frac {14}{3}$\n",
    "Lavennetaan yhteiseksi nimittäjäksi pyj(2,3) eli luku 6  =>   \n",
    "\n",
    "$ \\frac {5}{2} + \\frac {14}{3} = \\frac {15}{6} + \\frac {28}{6} = \\frac {43}{6}$ \n",
    "```\n",
    "````"
   ]
  }
 ],
 "metadata": {
  "jupytext": {
   "cell_metadata_filter": "-all",
   "notebook_metadata_filter": "-all",
   "text_representation": {
    "extension": ".md",
    "format_name": "markdown"
   }
  },
  "kernelspec": {
   "display_name": "Python 3 (ipykernel)",
   "language": "python",
   "name": "python3"
  },
  "language_info": {
   "codemirror_mode": {
    "name": "ipython",
    "version": 3
   },
   "file_extension": ".py",
   "mimetype": "text/x-python",
   "name": "python",
   "nbconvert_exporter": "python",
   "pygments_lexer": "ipython3",
   "version": "3.9.7"
  }
 },
 "nbformat": 4,
 "nbformat_minor": 5
}
