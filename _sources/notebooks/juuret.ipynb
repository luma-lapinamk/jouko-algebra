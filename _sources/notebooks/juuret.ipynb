{
 "cells": [
  {
   "cell_type": "markdown",
   "id": "14e90b83",
   "metadata": {},
   "source": [
    "# Juurilausekkeet "
   ]
  },
  {
   "cell_type": "markdown",
   "id": "46cb1822",
   "metadata": {},
   "source": [
    "```{admonition} Neliöjuuri $\\sqrt{a}$\n",
    ":class: tip\n",
    "$\\sqrt{a}$  tarkoittaa sitä positiivista lukua, jonka neliö on a \n",
    "    \n",
    "ts. ${\\sqrt{a}}^2 = a$\n",
    "\n",
    "```"
   ]
  },
  {
   "cell_type": "markdown",
   "id": "9e25cabf",
   "metadata": {},
   "source": [
    "Esim. $\\sqrt{4}=2$, koska $2^2=4$   \n",
    "      $\\sqrt{49}=7$, koska $7^2=49$    \n",
    "      $\\sqrt{2}\\approx1.414$, koska $1.414^2\\approx2$     \n",
    "      $\\sqrt{-4}$ ei ole olemassa (minkään luvun neliö ei ole negatiivinen)"
   ]
  },
  {
   "cell_type": "markdown",
   "id": "04f2df82",
   "metadata": {},
   "source": [
    "```{note}\n",
    "Neliöjuuren määritelmä voidaan esittää myös muodossa    \n",
    "$\\sqrt{a}$ on yhtälön $x^2=a$ positiivinen juuri.\n",
    "```"
   ]
  },
  {
   "cell_type": "markdown",
   "id": "12638eea",
   "metadata": {},
   "source": [
    "```{admonition} Kuutiojuuri $\\sqrt[3]{a}$\n",
    ":class: tip\n",
    "$\\sqrt[3]{a}$ tarkoittaa lukua, jonka 3. potenssi on a \n",
    "    \n",
    "ts. ${\\sqrt[3]{a}}^3 = a$\n",
    "\n",
    "```"
   ]
  },
  {
   "cell_type": "markdown",
   "id": "240b2857",
   "metadata": {},
   "source": [
    "Kuutiojuuren voi ottaa myös negatiivisesta luvusta. Tällöin juuren arvo on negatiivinen.   \n",
    "\n",
    "$\\sqrt[3]{8} = 2$  , koska $2^3 = 8$    \n",
    "$\\sqrt[3]{-125} = -5$  , koska ${(-5)}^3 = -125$    \n",
    "$\\sqrt[3]{10} \\approx 2.154$  , koska $2.154^3 \\approx 10$ "
   ]
  },
  {
   "cell_type": "markdown",
   "id": "1e441ee7",
   "metadata": {},
   "source": [
    "```{note} \n",
    "$\\sqrt[3]{a}$ on yhtälön $x^3=a$ juuri.\n",
    "```"
   ]
  },
  {
   "cell_type": "markdown",
   "id": "287c1760",
   "metadata": {},
   "source": [
    "```{admonition} Yleinen juuri $\\sqrt[n]{a}$\n",
    ":class: tip\n",
    "$\\sqrt[n]{a}$ tarkoittaa lukua, jonka n. potenssi on a \n",
    "    \n",
    "${\\sqrt[n]{a}}^n = a$    \n",
    "\n",
    "\n",
    "> Kun n on parillinen, $\\sqrt[n]{a}$ on määritelty vain kun $a\\gt0$    \n",
    "> Kun n on parillinen, $\\sqrt[n]{a}$ on määritelty myös kun a < 0\n",
    "\n",
    "```"
   ]
  },
  {
   "cell_type": "markdown",
   "id": "258028f1",
   "metadata": {},
   "source": [
    "```{admonition} Juurten esitys murtopotensseina\n",
    ":class: tip\n",
    "$\\sqrt{a}$ voidaan esittää potenssimuodossa $a^{\\frac{1}{2}}$    \n",
    "\n",
    "$\\sqrt[3]{a}$ voidaan esittää potenssimuodossa $a^{\\frac{1}{3}}$ \n",
    "    \n",
    "$\\sqrt[n]{a}$ voidaan esittää potenssimuodossa $a^{\\frac{1}{n}}$ \n",
    "\n",
    "Perustelu:  ${(a^{\\frac{1}{2}})}^2 = {a^{\\frac{1}{2}\\cdot 2}} = a$ (vrt. neliöjuuren määritelmä)    \n",
    "\n",
    "Murtopotensseja voi käyttää vain positiivisille kantaluvuille a\n",
    "\n",
    "```"
   ]
  },
  {
   "cell_type": "markdown",
   "id": "8f7ea581",
   "metadata": {},
   "source": [
    "Esimerkkejä eräiden lausekkeiden juuri- ja potenssiesityksistä \n",
    "\n",
    "| Juuriesitys                   | Potenssiesitys       |\n",
    "|-------------------------------|----------------------|\n",
    "| $\\sqrt{x}$                    | $x^{\\frac{1}{2}}$    |\n",
    "| $\\frac{1}{\\sqrt{x}}$          | $x^{-\\frac{1}{2}}$   |\n",
    "| $\\sqrt[3]{x^2}$               | $x^{\\frac{2}{3}}$    |"
   ]
  },
  {
   "cell_type": "markdown",
   "id": "33e9ac6e",
   "metadata": {},
   "source": [
    "## Juurilausekkeiden sievennyssääntöjä"
   ]
  },
  {
   "cell_type": "markdown",
   "id": "349ec501",
   "metadata": {},
   "source": [
    "Useimmat laskimet sieventävät automaattisesti neliöjuurilausekkeet muotoon, jossa 1) nimittäjässä ei esiinny neliöjuuria 2) juurten sisällä ei ole kokonaisluvun tai parametrien neliöitä tai parillisia potensseja. Sievennys perustuu seuraaviin sääntöihin."
   ]
  },
  {
   "cell_type": "markdown",
   "id": "0d03cfd5",
   "metadata": {},
   "source": [
    "```{admonition} Neliöjuurilausekkeiden sievennys\n",
    ":class: tip\n",
    "\n",
    "1. $\\frac{1}{\\sqrt{a}}= \\frac{\\sqrt{a}}{a}$ \n",
    "\n",
    "\n",
    "2. $\\sqrt{a\\cdot b} = \\sqrt{a}\\sqrt{b}$   \n",
    "\n",
    "    \n",
    "3. $\\sqrt{\\frac{a}{b}}=\\frac{\\sqrt{a}}{\\sqrt{b}}$\n",
    "\n",
    "```"
   ]
  },
  {
   "cell_type": "markdown",
   "id": "594d7d17",
   "metadata": {},
   "source": [
    "Laskimissa $\\frac{1}{\\sqrt{3}}$ usein lavennetaan muotoon $\\frac{\\sqrt{3}}{3}$. Samoin useat laskimet sieventävät juurilausekkeita seuraavasti:   \n",
    "\n",
    "$\\sqrt{50}=\\sqrt{2\\cdot 25}=\\sqrt{2}\\cdot \\sqrt{25}=5\\sqrt{2}$    \n",
    "\n",
    "$\\sqrt{6}\\sqrt{2}=\\sqrt{3}\\sqrt{2}\\sqrt{2}=2\\sqrt{3}$    \n",
    "\n",
    "$\\frac{\\sqrt{3}}{\\sqrt{6}}= \\sqrt{\\frac{3}{6}}=\\sqrt{\\frac{1}{2}}=\\frac{1}{\\sqrt{2}}=\\frac{\\sqrt{2}}{2}$"
   ]
  },
  {
   "cell_type": "markdown",
   "id": "fa6d573f",
   "metadata": {},
   "source": [
    "```{admonition} Sievennä a) $\\sqrt{12}$ ja $\\frac{\\sqrt{10}}{\\sqrt{2}}$\n",
    ":class: dropdown\n",
    "$\\sqrt{12}=\\sqrt{4}\\sqrt{3}=2\\sqrt{3}$\n",
    "\n",
    "$\\frac{\\sqrt{10}}{\\sqrt{2}}=\\sqrt{\\frac{10}{2}}=\\sqrt{5}$\n",
    "```"
   ]
  }
 ],
 "metadata": {
  "jupytext": {
   "cell_metadata_filter": "-all",
   "notebook_metadata_filter": "-all",
   "text_representation": {
    "extension": ".md",
    "format_name": "markdown"
   }
  },
  "kernelspec": {
   "display_name": "Python 3 (ipykernel)",
   "language": "python",
   "name": "python3"
  },
  "language_info": {
   "codemirror_mode": {
    "name": "ipython",
    "version": 3
   },
   "file_extension": ".py",
   "mimetype": "text/x-python",
   "name": "python",
   "nbconvert_exporter": "python",
   "pygments_lexer": "ipython3",
   "version": "3.9.7"
  }
 },
 "nbformat": 4,
 "nbformat_minor": 5
}
