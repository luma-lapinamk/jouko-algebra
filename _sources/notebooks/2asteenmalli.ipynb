{
 "cells": [
  {
   "cell_type": "markdown",
   "id": "64e7986e",
   "metadata": {},
   "source": [
    "# Paraabeli ja 2. asteen polynomimalli"
   ]
  },
  {
   "cell_type": "markdown",
   "id": "01f76da9",
   "metadata": {},
   "source": [
    "##  Paraabeli y = a x² + b x + c   "
   ]
  },
  {
   "cell_type": "markdown",
   "id": "a3a94a53",
   "metadata": {},
   "source": [
    "```{admonition} Paraabelin aukeamissuunta\n",
    ":class: tip\n",
    "Paraabelin aukeamissuunta määräytyy parametrin a etumerkistä:   \n",
    "\n",
    "Jos a>0, paraabeli aukeaa ylöspäin\n",
    "Jos a<0, paraabeli aukeaa alaspäin\n",
    "```"
   ]
  },
  {
   "cell_type": "markdown",
   "id": "a777d0bc",
   "metadata": {},
   "source": [
    "```{admonition} Paraabelin leikkauspisteet x- akselin kanssa\n",
    ":class: tip\n",
    "Paraabeli leikkaa x- akselia yhtälön $a x² + b x + c=0$ nollakohdissa, mikäli niitä on.    \n",
    "Nollakohdat saadaan ratkaisukaavalla $x = \\frac{-b\\pm \\sqrt{b^2-4ac}}{2a}$\n",
    "Nollakohtien lukumäärä riippuu diskriminantin $D = b^2-4ac$ etumerkistä. \n",
    "\n",
    "Jos D>0, paraabeli leikkaa x-akselia kahdessa pisteessä   \n",
    "Jos D=0, paraabeli sivuaa x- akseli pisteessä $b = -\\frac{b}{2a}$     \n",
    "Jos D<0, paraabeli ei leikkaa x- akselia \n",
    "```"
   ]
  },
  {
   "cell_type": "markdown",
   "id": "44cc72e0",
   "metadata": {},
   "source": [
    "```{image} ../images/para4.PNG\n",
    ":width: 400px\n",
    ":height: 300px\n",
    ":name: parabolas\n",
    "```"
   ]
  },
  {
   "cell_type": "markdown",
   "id": "92b075e3",
   "metadata": {},
   "source": [
    "Paraabelin piirtämisen kannalta tärkeä piste on paraabelin huippu,   \n",
    "jonka x-koordinaatti on nollakohtien keskiarvo $\\frac{1}{2}\\cdot (\\frac{-b-\\sqrt{b^2-4ac}}{2a}+\\frac{-b+\\sqrt{b^2-4ac}}{2a}) $ = $-\\frac{b}{2a}$"
   ]
  },
  {
   "cell_type": "markdown",
   "id": "02e5c42f",
   "metadata": {},
   "source": [
    "```{admonition} Paraabelin huipun koordinaatit\n",
    ":class: tip\n",
    "Huipun x-koordinaatti $x_h = -\\frac{b}{2a}$     \n",
    "Huipun y-koordinaatti $y_h = a {x_h}^2 + b x_h + c$    \n",
    "\n",
    "\n",
    "```"
   ]
  },
  {
   "cell_type": "markdown",
   "id": "6d7802d0",
   "metadata": {},
   "source": [
    "```{admonition} Piirrä paraabeli $y=x^2-3x+2$. Laske nollakohdat ja huipun koordinaatit\n",
    ":class: dropdown    \n",
    "Parametrit a = 1, b = -3 ja c = 2    \n",
    "Juuret ovat 1 ja 2  (ratkaisukaavalla tai W.A:n solve x² -3x+2 = 0)   \n",
    "Huippu: $x_h = -\\frac{b}{2a}$ =$\\frac{3}{2}$      \n",
    "        $y_h = (\\frac{3}{2})^2-3\\cdot \\frac{3}{2}+1=-\\frac{1}{4}$    \n",
    "        \n",
    "![para5](../images/para5.PNG)\n",
    "```"
   ]
  },
  {
   "cell_type": "markdown",
   "id": "d9e7df1e",
   "metadata": {},
   "source": [
    "## Toisen asteen polynomimalli "
   ]
  },
  {
   "cell_type": "markdown",
   "id": "eb356e18",
   "metadata": {},
   "source": [
    "Toisen asteen polynomimallista puhutaan silloin kuin jokin reaalimaailman ongelma voidaan mallintaa käyttämällä toisen asteen polynomilla.    \n",
    "\n",
    "Malli sopii esim. fysiikassa vinon heittoliikkeen mallinnukseen. Sitä voi soveltaa lukuisiin muihinkin tilanteisiin mm. talousmatematiikassa.     \n",
    "\n",
    "Esim. Ammuksen lentorata.    \n",
    "Ammuksen paikan y-koordinaatti lennon aikana voidaan laskea kaavalla    \n",
    "\n",
    "$y = y_0 + v_0\\cdot sin(\\alpha) t - \\frac{1}{2}g\\cdot t^2$   \n",
    "\n",
    "missä t=aika, g=9.8, $v_0$ = lähtönopeus, $\\alpha$ = lähtökulma.   \n",
    "\n",
    "> Oletetaan, että ammus lähtee 40 m korkean kukkulan laelta lähtönopeudella 500 m/s kulmaan 20 astetta.  "
   ]
  },
  {
   "cell_type": "markdown",
   "id": "198abb53",
   "metadata": {},
   "source": [
    "![ammus](../images/ammus.PNG)\n",
    "```{admonition} Laske a) milloin ammus putoaa mereen b) mikä on lennon lakikorkeus?\n",
    ":class: dropdown    \n",
    "Sijoitetaan kaavaan $y_0 =40, v_0=500, \\alpha=20^{\\circ}$.     \n",
    "Lentoradan y-koordinaatin yhtälö saa muodon $y = 40 + 171 t - 4.9 t^2$   \n",
    "\n",
    "a) Maahantulohetkellä y = 0, joten se saadaan ratkaisemalla $40 + 171 t - 4.9 t^2 = 0$.    \n",
    "WolframAlphalla *solve 40 + 171t - 4.9 t^2=0* antaa juuret -0.23 ja 35.13, joista jälkimmäinen    \n",
    "on kysytty mereentulohetki.     \n",
    "\n",
    "b) Lakikorkeus y saadaan määrittämällä paraabelin huippu:     \n",
    "huipun aikakoordinaatti:  $t_h = -\\frac{171}{2*(-4.9)} = 17.5 s$     \n",
    "huipun y -koordinaatti:   $y_h = 40 + 171\\cdot 17.5 - 4.9\\cdot {17.5}^2 \\approx $ 1530 m\n",
    "\n",
    "```"
   ]
  },
  {
   "cell_type": "markdown",
   "id": "b42db490",
   "metadata": {},
   "source": [
    "```{tip}\n",
    "WolframAlpha laskimessa on komennot sekä nollakohtien, että huipun laskemiseen:     \n",
    "solve $ax^2 + bx + c = 0$    (nollakohdat)     \n",
    "**maximize** $ax^2 + bx + c$  antaa huipun koordinaatit, jos paraabelin huippu on maksimikohta     \n",
    "**minimize** $ax^2 + bx + c$  antaa huipun koordinaatit, jos paraabelin huippu on minimikohta\n",
    "```"
   ]
  },
  {
   "cell_type": "markdown",
   "id": "7b864db7",
   "metadata": {},
   "source": [
    "Edellisessä ammus-esimerkissä komento maximize $40 + 171 t - 4.9 t^2$  antaa tuloksen seuraavassa muodossa:\n",
    "\n",
    "*max{40+171 t- 4.9 t² } = 1531.9 at t = 17.45*\n"
   ]
  },
  {
   "cell_type": "markdown",
   "id": "c9660cf7",
   "metadata": {},
   "source": [
    "> Seuraava esimerkki liittyy kysynnän ja tarjonnan lakiin talousmatematiikassa"
   ]
  },
  {
   "cell_type": "markdown",
   "id": "48a3d064",
   "metadata": {},
   "source": [
    "```{admonition} Erään tuotteen valmistuskustannukset ovat 6 euroa. Kun merkitään tuotteen hintaa X:llä, kate myydystä tuotteesta on X-6. Myyntimäärä Y riippuu hinnasta kaavan Y = 500 - 10 X mukaisesti. Laske tuotteelle sellainen hinta X, että myyntitulot ovat mahdollisimman suuret. \n",
    ":class: dropdown    \n",
    "Myyntitulot = myyntimäärä * kate per tuote = (500-10X)(X-6). Sievennetty myyntituottojen lauseke on    \n",
    "$500 X - 3000 - 10X^2 + 60X $ = $-10X^2 + 560 X - 3000$     \n",
    "Lausekkeen kuvaaja on alaspäin aukeava paraabeli parametrein a=-10, b = 560 ja c = -3000.   \n",
    "\n",
    "Sen maksimikohdassa X = $-\\frac{b}{2a}$ = 560/20 = 28.     \n",
    "Vastaus: parhaan tuoton antava myyntihinta on **28 euroa**    \n",
    "\n",
    "![huippu](../images/huippu.PNG)\n",
    "```"
   ]
  }
 ],
 "metadata": {
  "jupytext": {
   "cell_metadata_filter": "-all",
   "notebook_metadata_filter": "-all",
   "text_representation": {
    "extension": ".md",
    "format_name": "markdown"
   }
  },
  "kernelspec": {
   "display_name": "Python 3 (ipykernel)",
   "language": "python",
   "name": "python3"
  },
  "language_info": {
   "codemirror_mode": {
    "name": "ipython",
    "version": 3
   },
   "file_extension": ".py",
   "mimetype": "text/x-python",
   "name": "python",
   "nbconvert_exporter": "python",
   "pygments_lexer": "ipython3",
   "version": "3.9.7"
  }
 },
 "nbformat": 4,
 "nbformat_minor": 5
}
