{
 "cells": [
  {
   "cell_type": "markdown",
   "id": "64e7986e",
   "metadata": {},
   "source": [
    "# Suoran yhtälö ja lineaarinen malli"
   ]
  },
  {
   "cell_type": "markdown",
   "id": "01f76da9",
   "metadata": {},
   "source": [
    "## Suoran yhtälön perusmuoto y = k x + b "
   ]
  },
  {
   "cell_type": "markdown",
   "id": "946309ef",
   "metadata": {},
   "source": [
    "Suoran yhtälön oikea puoli on ensimmäisen asteen polynomi, jossa muuttujan x kerrointa   \n",
    "k sanotaan suoran **kulmakertoimeksi** ja parametria b **vakiotermiksi**.\n",
    "\n",
    "```{admonition} Suoran yhtälön parametrit\n",
    ":class: tip\n",
    "Kulmakerroin kertoo y:n muutoksen, kun x kasvaa yhdellä.       \n",
    "Vakiotermi kertoo kohdan, jossa suora leikkaa y-akselin.\n",
    "```\n",
    "Alla on suoran y = 2 x + 1  kuvaaja. Sen kulmakerroin on 2 ja vakiotermi 1 "
   ]
  },
  {
   "cell_type": "markdown",
   "id": "23dd7866",
   "metadata": {},
   "source": [
    "![suora1](../images/suora1.PNG)"
   ]
  },
  {
   "cell_type": "markdown",
   "id": "6d7802d0",
   "metadata": {},
   "source": [
    "```{admonition} Suoran yhtälö, kun kulmakerroin k ja suoran piste $(x_0,y_0)$ tunnetaan.\n",
    ":class: tip\n",
    "$ y - y_0 =k (x-x_0) $\n",
    "```"
   ]
  },
  {
   "cell_type": "markdown",
   "id": "e89f7322",
   "metadata": {},
   "source": [
    "````{admonition} Mikä on suoran yhtälö, kun kulmakerroin k = -2 suora kulkee pisteen (3,2) kautta?\n",
    ":class: dropdown\n",
    "Vastaus: $y = -2x+8$\n",
    "```{admonition} Ratkaisu, tapa1\n",
    ":class: dropdown\n",
    "Sijoitetaan k=2 ja $(x_0,y_0)$ yhtälöön $ y - y_0 =k (x-x_0) $, jolloin saadaan    \n",
    "$ y - 2 = -2 (x-3) $.    Ratkaistaan yhtälö y:n suhteen:       \n",
    "$ y - 2 = -2 x+ 6 $    \n",
    "$ y = -2x + 8 $     \n",
    "     \n",
    "![suora2](../images/suora2.PNG)\n",
    "```\n",
    "```{admonition} Ratkaisu, tapa2\n",
    ":class: dropdown\n",
    "Tehtävä voidaan ratkaista myös ilman yo. kaavaa lähtien perusmuodosta y = k x + b,   \n",
    "johon sijoitetaan k = -2 ja piste (3,2).    \n",
    "$2 = -2*3 + b$  =>  b = 8    \n",
    "Suoran yhtälö on siten $ y = -2x + 8 $\n",
    "```\n",
    "````"
   ]
  },
  {
   "cell_type": "markdown",
   "id": "f0931e94",
   "metadata": {},
   "source": [
    "```{admonition} Suoran yhtälö, kun 2 suoran pistettä $(x_1,y_1)$ ja $(x_2,y_2)$ tunnetaan.\n",
    ":class: tip\n",
    "1. Lasketaan kulmakerroin kaavalla k = $\\frac{y_2-y_1}{x_2-x_1}$    \n",
    "2. Muodostetaan suoran yhtälö $ y - y_1 =k (x-x_1) $  (tässä voidaan käyttää myös pistettä $(x_2,y_2)$ \n",
    "```"
   ]
  },
  {
   "cell_type": "markdown",
   "id": "89e26222",
   "metadata": {},
   "source": [
    "````{admonition} Mikä on sen suoran yhtälö, joka kulkee pisteiden (3,1) ja (-1,7) kautta.\n",
    ":class: dropdown\n",
    "Vastaus: $y = -\\frac{3}{2}x+\\frac{11}{2}$\n",
    "```{admonition} Ratkaisu, tapa1\n",
    ":class: dropdown\n",
    "1. Lasketaan kulmakerroin k = $\\frac{7-1}{-1-3}$ = -$\\frac{3}{2}$     \n",
    "2. Suoran yhtälö on $ y - 1 = -\\frac{3}{2} (x-3) $  eli     \n",
    "$ y - 1 = -\\frac{3}{2}x+\\frac{9}{2} $    \n",
    "$ y = -\\frac{3}{2}x+\\frac{9}{2}+\\frac{2}{2} $     \n",
    "$y = -\\frac{3}{2}x+\\frac{11}{2}$\n",
    "```\n",
    "```{admonition} Ratkaisu, tapa2\n",
    ":class: dropdown\n",
    "Tehtävä voidaan ratkaista myös ilman yo. kaavaa lähtien perusmuodosta y = k x + b,   \n",
    "johon sijoitetaan suoran tunnettujen pisteiden koordinaatit:   \n",
    "$\\begin{cases}  \n",
    "1 = 3 k + b\\\\   \n",
    "7= - k + b   \n",
    "\\end{cases}$    \n",
    "Ratkaistaan k ja b esim. WolframAlphassa komennolla solve 1=3k+b, 7 =-k + b,    \n",
    "jolloin saadaan  $k = -\\frac{3}{2}$ ja $b = \\frac{11}{2}$\n",
    "```\n",
    "````"
   ]
  },
  {
   "cell_type": "markdown",
   "id": "ea9cb2cd",
   "metadata": {},
   "source": [
    "## Lineaarinen malli"
   ]
  },
  {
   "cell_type": "markdown",
   "id": "eb5acba8",
   "metadata": {},
   "source": [
    "Lineaarinen malli on jokin reaalielämän ilmiö, joka voidaan mallintaa käyttäen suoran yhtälöä y = k x + b\n",
    "\n",
    "Esimerkkejä lineaarisesta mallista ovat sellaiset palvelut, joiden hinta koostuu kiinteästä perusosasta ja kulutukseen perustuvasta osasta.    \n",
    "\n",
    "Esim. Rovaniemellä omakotitalon kaukolämmön kuukausilasku koostuu 55 euron perusmaksusta ja energiamaksusta, jonka yksikköhinta on 50 eur/MWh.  Kuukausilaskun loppusumma Y  voidaan esittää kulutuksen X funktiona seuraavasti:    \n",
    "\n",
    "> $ Y = 50 X + 55 $      \n",
    "\n",
    "Suoran yhtälöön liittyviä kaavoja voidaan soveltaa lineaariseen malliin liittyvissä laskuissa, mistä seuraavassa on muutamia esimerkkejä."
   ]
  },
  {
   "cell_type": "markdown",
   "id": "da742332",
   "metadata": {},
   "source": [
    "Vuosittainen vesimaksu koostuu kiinteästä kulutuspaikkamaksusta, sekä veden kulutuksesta riippuvasta osasta.   \n",
    "\n",
    "\n",
    "\n",
    "````{admonition} Asiakas maksoi v.2021 vedestä 825 €. Kulutus oli 125 m³ ja yksikköhinta 5€ /m³. Mikä oli kiinteä perusmaksu? \n",
    ":class: dropdown\n",
    "Vastaus: 200 euroa\n",
    "\n",
    "```{admonition} Ratkaisu\n",
    ":class: dropdown\n",
    "Merkitään veden kulutusta X:llä ja vuosikustannusta Y:llä     \n",
    "Tehtävän tiedoilla Y = 5 X + b , missä vakio b on kysytty kiinteä perusmaksu.    \n",
    "Sijoittamalla X=125 ja Y = 825, saadaan     \n",
    "$825 = 5*125 + b$, josta $b = 825 - 5*125 = 200$\n",
    "\n",
    "```\n",
    "````"
   ]
  },
  {
   "cell_type": "markdown",
   "id": "873337c3",
   "metadata": {},
   "source": [
    "Kuukausittainen kaukolämpölasku koostuu myös kiinteästä perusmaksusta ja energiamaksusta.\n",
    "Voidaan siis käyttää mallia Y = k X + b, missä k = energiamaksu (eur/MWh) ja b = perusmaksu.\n",
    "\n",
    "````{admonition} Määritä k ja b, kun Mattisen lasku oli 146.60 kulutuksella 1.7MWh ja Simolan lasku oli 128.20 kulutuksella 1.35 MWh\n",
    ":class: dropdown\n",
    "Vastaus: perusmaksu 58 euroa, energiamaksu 52 euroa\n",
    "\n",
    "```{admonition} Ratkaisu\n",
    ":class: dropdown\n",
    "Sijoitetaan kaavaan Y = kX + b molemmat X,Y-parit. Ratkaistaan k ja b yhtälöparista    \n",
    "$\\begin{cases}  \n",
    "146.60 = 1.7 k + b\\\\   \n",
    "128.20 = 1.35 k + b   \n",
    "\\end{cases}$\n",
    "\n",
    "WolframAlphan komento solve 146.60 = 1.7 k + b , 128.20 = 1.35 k + b  antaa  \n",
    "k = 58 eur ja b = 52 eur\n",
    "\n",
    "```\n",
    "````\n"
   ]
  },
  {
   "cell_type": "markdown",
   "id": "ce1b5646",
   "metadata": {},
   "source": [
    "Eräästä automallista on myynnissä bensiini- ja diesel versiot. Ao. taulukossa on tietoja niiden veroista ja polttoaineen kulutuksesta.    \n",
    "\n",
    "| tyyppi | kulutus      | ltr-hinta | vero |\n",
    "|--------|--------------|-----------|------|\n",
    "| bensa  | 5.8ltr/100km | 1.725     | 150  |\n",
    "| diesel | 4.8ltr/100km | 1.5625    | 540  |\n",
    "\n",
    "````{admonition} Kuinka monta km vuodessa pitää ajaa, jotta diesel tulisi edullisemmaksi kuin bensa-auto?\n",
    ":class: dropdown\n",
    "Vastaus: 15600 km \n",
    "\n",
    "```{admonition} Ratkaisu\n",
    ":class: dropdown\n",
    "Lasketaan polttoainekulu per km kummallekin tyypille:     \n",
    "bensa  5.8/100*1.725€ = 0.10 €    \n",
    "diesel 4.8/100*1.5625€ = 0.075 €     \n",
    "\n",
    "Merkitään vuotuista ajokilometrimäärää x:llä. Km-määrä jossa kok.kustannus on sama saadaan yhtälöstä   \n",
    "\n",
    "150 + 0.10*x = 540 + 0.075*x ,\n",
    "\n",
    "josta esim. W.A:n solvella saadaan x = **15600**   \n",
    "    \n",
    "Tehtävä voidaan ratkaista myös graafisesti piirtämällä molempien autotyyppien vuosikustannukset ajetun km-määrän funkiona.   (WolframAlphan komento:  plot 150+0.1x, 540+0.075x from 10000 to 20000)   \n",
    "  \n",
    "![suora3](../images/suora3.PNG)\n",
    "\n",
    "```\n",
    "````"
   ]
  }
 ],
 "metadata": {
  "jupytext": {
   "cell_metadata_filter": "-all",
   "notebook_metadata_filter": "-all",
   "text_representation": {
    "extension": ".md",
    "format_name": "markdown"
   }
  },
  "kernelspec": {
   "display_name": "Python 3 (ipykernel)",
   "language": "python",
   "name": "python3"
  },
  "language_info": {
   "codemirror_mode": {
    "name": "ipython",
    "version": 3
   },
   "file_extension": ".py",
   "mimetype": "text/x-python",
   "name": "python",
   "nbconvert_exporter": "python",
   "pygments_lexer": "ipython3",
   "version": "3.9.7"
  }
 },
 "nbformat": 4,
 "nbformat_minor": 5
}
