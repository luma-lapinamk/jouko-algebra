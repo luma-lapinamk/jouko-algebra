{
 "cells": [
  {
   "cell_type": "markdown",
   "id": "64e7986e",
   "metadata": {},
   "source": [
    "# Mittakaava"
   ]
  },
  {
   "cell_type": "markdown",
   "id": "3fd56d6f",
   "metadata": {},
   "source": [
    "\n",
    "```{admonition} **Kartan mittakaava**\n",
    ":class: tip\n",
    "*Mittakaava* on suhdeluku, joka kertoo kuvan, kartan tai piirroksen ja sen esittämän todellisen kohteen mittojen välisen suhteen.   \n",
    "Esim. mittakaava 1:100 tarkoittaa, että yksi yksikkö kartalla vastaa 100 yksikköä todellisessa kohteessa.    \n",
    "Mittakaavaa käytetään erityisesti kartoissa ja pienoismalleissa.\n",
    "```"
   ]
  },
  {
   "cell_type": "markdown",
   "id": "6d7802d0",
   "metadata": {},
   "source": [
    "````{admonition} Esimerkki\n",
    ":class: note\n",
    "![kartta](../images/kartta.PNG)     \n",
    "a) Kuinka pitkä on maastossa jana, joka kartalla on 2.5 cm?     \n",
    "b) Arvioi kartalla olevan stadionin pinta-ala, kun sen koko kartalla on $2.5cm\\cdot 1.2cm = 3.0 cm^2$\n",
    "```{admonition} Ratkaisu\n",
    ":class: dropdown\n",
    "a) janan pituus on $5000 \\cdot 2.5cm = 12500cm = 125 m$   \n",
    "b) stadionin ala on $5000 \\cdot 2.5cm \\cdot 5000 \\cdot 1.2cm =75000000 cm^2=7500 cm^2 = 0.75 ha$ \n",
    "```\n",
    "````"
   ]
  },
  {
   "cell_type": "markdown",
   "id": "ea9cb2cd",
   "metadata": {},
   "source": [
    "## Yhdenmuotoisuus ja mittakaava"
   ]
  },
  {
   "cell_type": "markdown",
   "id": "3313e9a7",
   "metadata": {},
   "source": [
    "```{admonition} Yhdenmuotoisuus\n",
    ":class: tip  \n",
    "Yhdenmuotoiset kuviot ovat samanmuotoisia, mutta eri kokoisia. Yhdenmuotoisissa kuvioissa kulmat ovat yhtäsuuria, mutta vastinjanat ovat joko tietyssä suhteessa tehtyjä suurennoksia tai pienennöksiä.   \n",
    "![yhdm](../images/yhdenmuot.PNG)   \n",
    "\n",
    "Kuvan kolmioista oikeanpuolimmainen on vasemmanpuolimmaisen kolmion kuva mittakaavassa\n",
    "$k=\\frac{a_2}{a_1}$  \n",
    "\n",
    "Sama pätee muillekin vastinsivujen suhteille: $k=\\frac{b_2}{b_1}$ ja $k=\\frac{c_2}{c_1}$ \n",
    "\n",
    "Lisäksi on on voimassa $a_1:b_1:c_1 = a_2:b_2:c_2$ \n",
    "\n",
    "```"
   ]
  },
  {
   "cell_type": "markdown",
   "id": "43ef5997",
   "metadata": {},
   "source": [
    "```{admonition} Paperille on piirretty neliö, jonka sivun pituus on 6 cm. Piirretään alkuperäisestä neliöstä pienennös mittakaavassa 2 : 3. Mikä on uusi sivun pituus?\n",
    ":class: dropdown\n",
    "Merkitään pienennetyn kolmion sivua x:llä.    \n",
    "Tällöin $x=k\\cdot \\text{6cm}=\\frac{2}{3}\\cdot \\text{6cm}=\\text{4cm}$  \n",
    "```"
   ]
  },
  {
   "cell_type": "markdown",
   "id": "4965425b",
   "metadata": {},
   "source": [
    "```{admonition} Paperille on piirretty neliö, jonka sivun pituus on 6 cm. Piirretään alkuperäisestä neliöstä suurennos mittakaavassa 4 : 3. Mikä on uusi sivun pituus?\n",
    ":class: dropdown\n",
    "Merkitään pienennetyn kolmion sivua x:llä.    \n",
    "Tällöin $x=k\\cdot \\text{6cm}=\\frac{4}{3}\\cdot \\text{6cm}=\\text{8cm}$  \n",
    "```"
   ]
  },
  {
   "cell_type": "markdown",
   "id": "575fce58",
   "metadata": {},
   "source": [
    "## Pinta-alat ja tilavuudet yhdenmuotoisissa kuvioissa ja kappaleissa"
   ]
  },
  {
   "cell_type": "markdown",
   "id": "71d94838",
   "metadata": {},
   "source": [
    "```{admonition} Yhdenmuotoisuus\n",
    ":class: tip  \n",
    "Yhdenmuotoisissa kuvioissa mittakaavalla tarkoitetaan vastinjanojen suhdetta     \n",
    "\n",
    "$\\frac{a_2}{a_1}=k$     \n",
    "\n",
    "Vastinpinta-alojen suhde on mittakaavan neliö    \n",
    "\n",
    "$\\frac{A_2}{A_1}=k^{2}$    \n",
    "\n",
    "Yhdenmuotoisten kappaleiden tilavuuksien suhde on mittakaavan kuutio    \n",
    "\n",
    "$\\frac{V_2}{V_1}=k^{3}$\n",
    "\n",
    "Kaavoja voidaan perustella esim. ao. kuvalla, jossa on kaksi yhdenmuotoista kuutiota, jossa     \n",
    "sivujen suhde on 2, vastinpinta-alojen suhde 4 ja tilavuuksien suhde 8.     \n",
    "\n",
    "![kuutio](../images/kuutio.PNG)"
   ]
  },
  {
   "cell_type": "markdown",
   "id": "ccd64ab3",
   "metadata": {},
   "source": [
    "````{admonition} Hauet\n",
    ":class: note\n",
    "Monikokertainen on isomman hauen massa pienempään verrattuna, kun hauet ovat yhdenmuotoisia ja niiden keskitiheys on sama?    \n",
    "![hauet](../images/hauet.PNG)     \n",
    "```{admonition} Ratkaisu\n",
    ":class: dropdown\n",
    "Vastaus:  massa on 8-kertainen, koska tilavuuksien suhde on $k^3 = (50cm/25cm)^3 = 8$\n",
    "```\n",
    "````"
   ]
  },
  {
   "cell_type": "markdown",
   "id": "7784009c",
   "metadata": {},
   "source": [
    "````{admonition} Projektori\n",
    ":class: tip\n",
    "Monikokertainen on projektorin kuvan pinta-ala varjostimella alkuperäiseen verrattuna, jos projektori siirretään 2- kertaiselle etäisyydelle?     \n",
    "![proj](../images/projektori.PNG)    \n",
    "```{admonition} Ratkaisu\n",
    ":class: dropdown\n",
    "Kuvakartiot ovat yhdenmuotoisia pyramidin muotoisia kappaleita. Kun pyramidin korkeus kaksinkertaistuu,     \n",
    "kuvan ala 4-kertaistuu, koska alojen suhde on $k^2 = (2)^2 = 4$\n",
    "```\n",
    "````"
   ]
  },
  {
   "cell_type": "markdown",
   "id": "e619c816",
   "metadata": {},
   "source": [
    "````{admonition} Vedenkeittimet\n",
    ":class: tip\n",
    "Eräällä valmistajalla on kaksi yhdenmuotoista vedenkeitintä, joista pienemmän korkeus on 15 cm ja tilavuus 1 litra. Mikä on suuremman 2 litran keittimen korkeus?    \n",
    "![keitin](../images/keitin.PNG)   \n",
    "\n",
    "```{admonition} Ratkaisu\n",
    ":class: dropdown\n",
    "Tilavuuksien suhde = mittakaavan kuutio: ts.  $k^3 = 2$, josta voidaan ratkaista suuremman keittimen mittakaava pienempään verrattuna:      \n",
    "$k= \\sqrt[3]{2}= 1.26$.  Isomman keittimen korkeus on siten $1.26\\cdot15cm=18.9 cm$\n",
    "```\n",
    "````"
   ]
  }
 ],
 "metadata": {
  "jupytext": {
   "cell_metadata_filter": "-all",
   "notebook_metadata_filter": "-all",
   "text_representation": {
    "extension": ".md",
    "format_name": "markdown"
   }
  },
  "kernelspec": {
   "display_name": "Python 3 (ipykernel)",
   "language": "python",
   "name": "python3"
  },
  "language_info": {
   "codemirror_mode": {
    "name": "ipython",
    "version": 3
   },
   "file_extension": ".py",
   "mimetype": "text/x-python",
   "name": "python",
   "nbconvert_exporter": "python",
   "pygments_lexer": "ipython3",
   "version": "3.9.7"
  }
 },
 "nbformat": 4,
 "nbformat_minor": 5
}
